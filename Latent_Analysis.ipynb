{
 "cells": [
  {
   "cell_type": "code",
   "execution_count": 1,
   "metadata": {
    "scrolled": true
   },
   "outputs": [
    {
     "name": "stderr",
     "output_type": "stream",
     "text": [
      "/usr/local/lib/python2.7/dist-packages/ipywidgets/widgets/widget.py:281: DeprecationWarning:\n",
      "\n",
      "Widget registration using a string name has been deprecated. Widget registration now uses a plain `@register` decorator.\n",
      "\n"
     ]
    }
   ],
   "source": [
    "import argparse\n",
    "from utils.io import load_numpy\n",
    "import numpy as np\n",
    "from experiment.latent_analysis import latent_analysis\n",
    "from experiment.popular_analysis import popular_overlapping\n",
    "from utils.argument import shape\n",
    "from utils.argument import check_float_positive, check_int_positive, shape\n",
    "\n",
    "from models.lrec import embedded_lrec_items\n",
    "from models.weighted_lrec import weighted_lrec_items\n",
    "from models.pure_svd import pure_svd, eigen_boosted_pure_svd\n",
    "from models.als import als\n",
    "from models.pmi_lrec import pmi_lrec_items\n",
    "from models.weighted_pmi_lrec import weighted_pmi_lrec_items\n",
    "from models.chainitemitem import chain_item_item\n",
    "from models.predictor import predict\n",
    "import pandas as pd"
   ]
  },
  {
   "cell_type": "code",
   "execution_count": 2,
   "metadata": {},
   "outputs": [],
   "source": [
    "argpath = 'datax/'\n",
    "argtrain = 'Rtrain.npz'\n",
    "argvalid = 'Rvalid.npz'\n",
    "argindex = 'Index.npy'\n",
    "argside = 'ml-1m/movies.dat'"
   ]
  },
  {
   "cell_type": "code",
   "execution_count": 3,
   "metadata": {
    "scrolled": true
   },
   "outputs": [
    {
     "name": "stderr",
     "output_type": "stream",
     "text": [
      "/usr/local/lib/python2.7/dist-packages/ipykernel_launcher.py:3: ParserWarning:\n",
      "\n",
      "Falling back to the 'python' engine because the 'c' engine does not support regex separators (separators > 1 char and different from '\\s+' are interpreted as regex); you can avoid this warning by specifying engine='python'.\n",
      "\n"
     ]
    }
   ],
   "source": [
    "R_train = load_numpy(path=argpath, name=argtrain)\n",
    "Index = np.load(argpath+argindex)\n",
    "Side_info = pd.read_csv(argpath+argside, delimiter='::', names=['index', 'name', 'type'], encoding='utf-8')"
   ]
  },
  {
   "cell_type": "code",
   "execution_count": 4,
   "metadata": {},
   "outputs": [
    {
     "data": {
      "text/plain": [
       "(6038, 3533)"
      ]
     },
     "execution_count": 4,
     "metadata": {},
     "output_type": "execute_result"
    }
   ],
   "source": [
    "R_train.shape"
   ]
  },
  {
   "cell_type": "code",
   "execution_count": 5,
   "metadata": {},
   "outputs": [
    {
     "data": {
      "text/plain": [
       "11649"
      ]
     },
     "execution_count": 5,
     "metadata": {},
     "output_type": "execute_result"
    }
   ],
   "source": [
    "Side_info.size"
   ]
  },
  {
   "cell_type": "code",
   "execution_count": 6,
   "metadata": {},
   "outputs": [
    {
     "data": {
      "text/plain": [
       "(3533,)"
      ]
     },
     "execution_count": 6,
     "metadata": {},
     "output_type": "execute_result"
    }
   ],
   "source": [
    "np.asarray(np.sum(R_train,axis=0)).reshape(-1).shape"
   ]
  },
  {
   "cell_type": "code",
   "execution_count": 8,
   "metadata": {},
   "outputs": [],
   "source": [
    "Side_info = Side_info[Side_info['index'].isin(Index)].reset_index(drop=True)"
   ]
  },
  {
   "cell_type": "code",
   "execution_count": 9,
   "metadata": {},
   "outputs": [],
   "source": [
    "Side_info['popularity'] = np.asarray(np.sum(R_train,axis=0)).reshape(-1)"
   ]
  },
  {
   "cell_type": "code",
   "execution_count": 10,
   "metadata": {},
   "outputs": [],
   "source": [
    "Side_info['notes'] = Side_info['name'] + '<br>' + Side_info['type'] + '<br>Popularity:' +  Side_info['popularity'].astype(str)"
   ]
  },
  {
   "cell_type": "code",
   "execution_count": 11,
   "metadata": {},
   "outputs": [
    {
     "data": {
      "text/html": [
       "<div>\n",
       "<style scoped>\n",
       "    .dataframe tbody tr th:only-of-type {\n",
       "        vertical-align: middle;\n",
       "    }\n",
       "\n",
       "    .dataframe tbody tr th {\n",
       "        vertical-align: top;\n",
       "    }\n",
       "\n",
       "    .dataframe thead th {\n",
       "        text-align: right;\n",
       "    }\n",
       "</style>\n",
       "<table border=\"1\" class=\"dataframe\">\n",
       "  <thead>\n",
       "    <tr style=\"text-align: right;\">\n",
       "      <th></th>\n",
       "      <th>index</th>\n",
       "      <th>name</th>\n",
       "      <th>type</th>\n",
       "      <th>popularity</th>\n",
       "      <th>notes</th>\n",
       "    </tr>\n",
       "  </thead>\n",
       "  <tbody>\n",
       "    <tr>\n",
       "      <th>0</th>\n",
       "      <td>1</td>\n",
       "      <td>Toy Story (1995)</td>\n",
       "      <td>Animation|Children's|Comedy</td>\n",
       "      <td>1047.0</td>\n",
       "      <td>Toy Story (1995)&lt;br&gt;Animation|Children's|Comed...</td>\n",
       "    </tr>\n",
       "    <tr>\n",
       "      <th>1</th>\n",
       "      <td>2</td>\n",
       "      <td>Jumanji (1995)</td>\n",
       "      <td>Adventure|Children's|Fantasy</td>\n",
       "      <td>108.0</td>\n",
       "      <td>Jumanji (1995)&lt;br&gt;Adventure|Children's|Fantasy...</td>\n",
       "    </tr>\n",
       "    <tr>\n",
       "      <th>2</th>\n",
       "      <td>3</td>\n",
       "      <td>Grumpier Old Men (1995)</td>\n",
       "      <td>Comedy|Romance</td>\n",
       "      <td>59.0</td>\n",
       "      <td>Grumpier Old Men (1995)&lt;br&gt;Comedy|Romance&lt;br&gt;P...</td>\n",
       "    </tr>\n",
       "    <tr>\n",
       "      <th>3</th>\n",
       "      <td>4</td>\n",
       "      <td>Waiting to Exhale (1995)</td>\n",
       "      <td>Comedy|Drama</td>\n",
       "      <td>18.0</td>\n",
       "      <td>Waiting to Exhale (1995)&lt;br&gt;Comedy|Drama&lt;br&gt;Po...</td>\n",
       "    </tr>\n",
       "    <tr>\n",
       "      <th>4</th>\n",
       "      <td>5</td>\n",
       "      <td>Father of the Bride Part II (1995)</td>\n",
       "      <td>Comedy</td>\n",
       "      <td>28.0</td>\n",
       "      <td>Father of the Bride Part II (1995)&lt;br&gt;Comedy&lt;b...</td>\n",
       "    </tr>\n",
       "    <tr>\n",
       "      <th>5</th>\n",
       "      <td>6</td>\n",
       "      <td>Heat (1995)</td>\n",
       "      <td>Action|Crime|Thriller</td>\n",
       "      <td>364.0</td>\n",
       "      <td>Heat (1995)&lt;br&gt;Action|Crime|Thriller&lt;br&gt;Popula...</td>\n",
       "    </tr>\n",
       "    <tr>\n",
       "      <th>6</th>\n",
       "      <td>7</td>\n",
       "      <td>Sabrina (1995)</td>\n",
       "      <td>Comedy|Romance</td>\n",
       "      <td>72.0</td>\n",
       "      <td>Sabrina (1995)&lt;br&gt;Comedy|Romance&lt;br&gt;Popularity...</td>\n",
       "    </tr>\n",
       "    <tr>\n",
       "      <th>7</th>\n",
       "      <td>8</td>\n",
       "      <td>Tom and Huck (1995)</td>\n",
       "      <td>Adventure|Children's</td>\n",
       "      <td>7.0</td>\n",
       "      <td>Tom and Huck (1995)&lt;br&gt;Adventure|Children's&lt;br...</td>\n",
       "    </tr>\n",
       "    <tr>\n",
       "      <th>8</th>\n",
       "      <td>9</td>\n",
       "      <td>Sudden Death (1995)</td>\n",
       "      <td>Action</td>\n",
       "      <td>12.0</td>\n",
       "      <td>Sudden Death (1995)&lt;br&gt;Action&lt;br&gt;Popularity:12.0</td>\n",
       "    </tr>\n",
       "    <tr>\n",
       "      <th>9</th>\n",
       "      <td>10</td>\n",
       "      <td>GoldenEye (1995)</td>\n",
       "      <td>Action|Adventure|Thriller</td>\n",
       "      <td>219.0</td>\n",
       "      <td>GoldenEye (1995)&lt;br&gt;Action|Adventure|Thriller&lt;...</td>\n",
       "    </tr>\n",
       "    <tr>\n",
       "      <th>10</th>\n",
       "      <td>11</td>\n",
       "      <td>American President, The (1995)</td>\n",
       "      <td>Comedy|Drama|Romance</td>\n",
       "      <td>326.0</td>\n",
       "      <td>American President, The (1995)&lt;br&gt;Comedy|Drama...</td>\n",
       "    </tr>\n",
       "    <tr>\n",
       "      <th>11</th>\n",
       "      <td>12</td>\n",
       "      <td>Dracula: Dead and Loving It (1995)</td>\n",
       "      <td>Comedy|Horror</td>\n",
       "      <td>11.0</td>\n",
       "      <td>Dracula: Dead and Loving It (1995)&lt;br&gt;Comedy|H...</td>\n",
       "    </tr>\n",
       "    <tr>\n",
       "      <th>12</th>\n",
       "      <td>13</td>\n",
       "      <td>Balto (1995)</td>\n",
       "      <td>Animation|Children's</td>\n",
       "      <td>19.0</td>\n",
       "      <td>Balto (1995)&lt;br&gt;Animation|Children's&lt;br&gt;Popula...</td>\n",
       "    </tr>\n",
       "    <tr>\n",
       "      <th>13</th>\n",
       "      <td>14</td>\n",
       "      <td>Nixon (1995)</td>\n",
       "      <td>Drama</td>\n",
       "      <td>18.0</td>\n",
       "      <td>Nixon (1995)&lt;br&gt;Drama&lt;br&gt;Popularity:18.0</td>\n",
       "    </tr>\n",
       "    <tr>\n",
       "      <th>14</th>\n",
       "      <td>15</td>\n",
       "      <td>Cutthroat Island (1995)</td>\n",
       "      <td>Action|Adventure|Romance</td>\n",
       "      <td>14.0</td>\n",
       "      <td>Cutthroat Island (1995)&lt;br&gt;Action|Adventure|Ro...</td>\n",
       "    </tr>\n",
       "    <tr>\n",
       "      <th>15</th>\n",
       "      <td>16</td>\n",
       "      <td>Casino (1995)</td>\n",
       "      <td>Drama|Thriller</td>\n",
       "      <td>170.0</td>\n",
       "      <td>Casino (1995)&lt;br&gt;Drama|Thriller&lt;br&gt;Popularity:...</td>\n",
       "    </tr>\n",
       "    <tr>\n",
       "      <th>16</th>\n",
       "      <td>17</td>\n",
       "      <td>Sense and Sensibility (1995)</td>\n",
       "      <td>Drama|Romance</td>\n",
       "      <td>359.0</td>\n",
       "      <td>Sense and Sensibility (1995)&lt;br&gt;Drama|Romance&lt;...</td>\n",
       "    </tr>\n",
       "    <tr>\n",
       "      <th>17</th>\n",
       "      <td>18</td>\n",
       "      <td>Four Rooms (1995)</td>\n",
       "      <td>Thriller</td>\n",
       "      <td>15.0</td>\n",
       "      <td>Four Rooms (1995)&lt;br&gt;Thriller&lt;br&gt;Popularity:15.0</td>\n",
       "    </tr>\n",
       "    <tr>\n",
       "      <th>18</th>\n",
       "      <td>19</td>\n",
       "      <td>Ace Ventura: When Nature Calls (1995)</td>\n",
       "      <td>Comedy</td>\n",
       "      <td>29.0</td>\n",
       "      <td>Ace Ventura: When Nature Calls (1995)&lt;br&gt;Comed...</td>\n",
       "    </tr>\n",
       "    <tr>\n",
       "      <th>19</th>\n",
       "      <td>20</td>\n",
       "      <td>Money Train (1995)</td>\n",
       "      <td>Action</td>\n",
       "      <td>7.0</td>\n",
       "      <td>Money Train (1995)&lt;br&gt;Action&lt;br&gt;Popularity:7.0</td>\n",
       "    </tr>\n",
       "    <tr>\n",
       "      <th>20</th>\n",
       "      <td>21</td>\n",
       "      <td>Get Shorty (1995)</td>\n",
       "      <td>Action|Comedy|Drama</td>\n",
       "      <td>452.0</td>\n",
       "      <td>Get Shorty (1995)&lt;br&gt;Action|Comedy|Drama&lt;br&gt;Po...</td>\n",
       "    </tr>\n",
       "    <tr>\n",
       "      <th>21</th>\n",
       "      <td>22</td>\n",
       "      <td>Copycat (1995)</td>\n",
       "      <td>Crime|Drama|Thriller</td>\n",
       "      <td>65.0</td>\n",
       "      <td>Copycat (1995)&lt;br&gt;Crime|Drama|Thriller&lt;br&gt;Popu...</td>\n",
       "    </tr>\n",
       "    <tr>\n",
       "      <th>22</th>\n",
       "      <td>23</td>\n",
       "      <td>Assassins (1995)</td>\n",
       "      <td>Thriller</td>\n",
       "      <td>8.0</td>\n",
       "      <td>Assassins (1995)&lt;br&gt;Thriller&lt;br&gt;Popularity:8.0</td>\n",
       "    </tr>\n",
       "    <tr>\n",
       "      <th>23</th>\n",
       "      <td>24</td>\n",
       "      <td>Powder (1995)</td>\n",
       "      <td>Drama|Sci-Fi</td>\n",
       "      <td>117.0</td>\n",
       "      <td>Powder (1995)&lt;br&gt;Drama|Sci-Fi&lt;br&gt;Popularity:117.0</td>\n",
       "    </tr>\n",
       "    <tr>\n",
       "      <th>24</th>\n",
       "      <td>25</td>\n",
       "      <td>Leaving Las Vegas (1995)</td>\n",
       "      <td>Drama|Romance</td>\n",
       "      <td>319.0</td>\n",
       "      <td>Leaving Las Vegas (1995)&lt;br&gt;Drama|Romance&lt;br&gt;P...</td>\n",
       "    </tr>\n",
       "    <tr>\n",
       "      <th>25</th>\n",
       "      <td>26</td>\n",
       "      <td>Othello (1995)</td>\n",
       "      <td>Drama</td>\n",
       "      <td>22.0</td>\n",
       "      <td>Othello (1995)&lt;br&gt;Drama&lt;br&gt;Popularity:22.0</td>\n",
       "    </tr>\n",
       "    <tr>\n",
       "      <th>26</th>\n",
       "      <td>27</td>\n",
       "      <td>Now and Then (1995)</td>\n",
       "      <td>Drama</td>\n",
       "      <td>6.0</td>\n",
       "      <td>Now and Then (1995)&lt;br&gt;Drama&lt;br&gt;Popularity:6.0</td>\n",
       "    </tr>\n",
       "    <tr>\n",
       "      <th>27</th>\n",
       "      <td>28</td>\n",
       "      <td>Persuasion (1995)</td>\n",
       "      <td>Romance</td>\n",
       "      <td>72.0</td>\n",
       "      <td>Persuasion (1995)&lt;br&gt;Romance&lt;br&gt;Popularity:72.0</td>\n",
       "    </tr>\n",
       "    <tr>\n",
       "      <th>28</th>\n",
       "      <td>29</td>\n",
       "      <td>City of Lost Children, The (1995)</td>\n",
       "      <td>Adventure|Sci-Fi</td>\n",
       "      <td>192.0</td>\n",
       "      <td>City of Lost Children, The (1995)&lt;br&gt;Adventure...</td>\n",
       "    </tr>\n",
       "    <tr>\n",
       "      <th>29</th>\n",
       "      <td>30</td>\n",
       "      <td>Shanghai Triad (Yao a yao yao dao waipo qiao) ...</td>\n",
       "      <td>Drama</td>\n",
       "      <td>16.0</td>\n",
       "      <td>Shanghai Triad (Yao a yao yao dao waipo qiao) ...</td>\n",
       "    </tr>\n",
       "    <tr>\n",
       "      <th>...</th>\n",
       "      <td>...</td>\n",
       "      <td>...</td>\n",
       "      <td>...</td>\n",
       "      <td>...</td>\n",
       "      <td>...</td>\n",
       "    </tr>\n",
       "    <tr>\n",
       "      <th>3503</th>\n",
       "      <td>3923</td>\n",
       "      <td>Return of the Fly (1959)</td>\n",
       "      <td>Horror|Sci-Fi</td>\n",
       "      <td>9.0</td>\n",
       "      <td>Return of the Fly (1959)&lt;br&gt;Horror|Sci-Fi&lt;br&gt;P...</td>\n",
       "    </tr>\n",
       "    <tr>\n",
       "      <th>3504</th>\n",
       "      <td>3924</td>\n",
       "      <td>Pajama Party (1964)</td>\n",
       "      <td>Comedy</td>\n",
       "      <td>4.0</td>\n",
       "      <td>Pajama Party (1964)&lt;br&gt;Comedy&lt;br&gt;Popularity:4.0</td>\n",
       "    </tr>\n",
       "    <tr>\n",
       "      <th>3505</th>\n",
       "      <td>3925</td>\n",
       "      <td>Stranger Than Paradise (1984)</td>\n",
       "      <td>Comedy</td>\n",
       "      <td>46.0</td>\n",
       "      <td>Stranger Than Paradise (1984)&lt;br&gt;Comedy&lt;br&gt;Pop...</td>\n",
       "    </tr>\n",
       "    <tr>\n",
       "      <th>3506</th>\n",
       "      <td>3926</td>\n",
       "      <td>Voyage to the Bottom of the Sea (1961)</td>\n",
       "      <td>Adventure|Sci-Fi</td>\n",
       "      <td>47.0</td>\n",
       "      <td>Voyage to the Bottom of the Sea (1961)&lt;br&gt;Adve...</td>\n",
       "    </tr>\n",
       "    <tr>\n",
       "      <th>3507</th>\n",
       "      <td>3927</td>\n",
       "      <td>Fantastic Voyage (1966)</td>\n",
       "      <td>Adventure|Sci-Fi</td>\n",
       "      <td>111.0</td>\n",
       "      <td>Fantastic Voyage (1966)&lt;br&gt;Adventure|Sci-Fi&lt;br...</td>\n",
       "    </tr>\n",
       "    <tr>\n",
       "      <th>3508</th>\n",
       "      <td>3928</td>\n",
       "      <td>Abbott and Costello Meet Frankenstein (1948)</td>\n",
       "      <td>Comedy|Horror</td>\n",
       "      <td>66.0</td>\n",
       "      <td>Abbott and Costello Meet Frankenstein (1948)&lt;b...</td>\n",
       "    </tr>\n",
       "    <tr>\n",
       "      <th>3509</th>\n",
       "      <td>3929</td>\n",
       "      <td>Bank Dick, The (1940)</td>\n",
       "      <td>Comedy</td>\n",
       "      <td>78.0</td>\n",
       "      <td>Bank Dick, The (1940)&lt;br&gt;Comedy&lt;br&gt;Popularity:...</td>\n",
       "    </tr>\n",
       "    <tr>\n",
       "      <th>3510</th>\n",
       "      <td>3930</td>\n",
       "      <td>Creature From the Black Lagoon, The (1954)</td>\n",
       "      <td>Horror</td>\n",
       "      <td>58.0</td>\n",
       "      <td>Creature From the Black Lagoon, The (1954)&lt;br&gt;...</td>\n",
       "    </tr>\n",
       "    <tr>\n",
       "      <th>3511</th>\n",
       "      <td>3931</td>\n",
       "      <td>Giant Gila Monster, The (1959)</td>\n",
       "      <td>Horror|Sci-Fi</td>\n",
       "      <td>1.0</td>\n",
       "      <td>Giant Gila Monster, The (1959)&lt;br&gt;Horror|Sci-F...</td>\n",
       "    </tr>\n",
       "    <tr>\n",
       "      <th>3512</th>\n",
       "      <td>3932</td>\n",
       "      <td>Invisible Man, The (1933)</td>\n",
       "      <td>Horror|Sci-Fi</td>\n",
       "      <td>88.0</td>\n",
       "      <td>Invisible Man, The (1933)&lt;br&gt;Horror|Sci-Fi&lt;br&gt;...</td>\n",
       "    </tr>\n",
       "    <tr>\n",
       "      <th>3513</th>\n",
       "      <td>3933</td>\n",
       "      <td>Killer Shrews, The (1959)</td>\n",
       "      <td>Horror|Sci-Fi</td>\n",
       "      <td>1.0</td>\n",
       "      <td>Killer Shrews, The (1959)&lt;br&gt;Horror|Sci-Fi&lt;br&gt;...</td>\n",
       "    </tr>\n",
       "    <tr>\n",
       "      <th>3514</th>\n",
       "      <td>3934</td>\n",
       "      <td>Kronos (1957)</td>\n",
       "      <td>Sci-Fi</td>\n",
       "      <td>6.0</td>\n",
       "      <td>Kronos (1957)&lt;br&gt;Sci-Fi&lt;br&gt;Popularity:6.0</td>\n",
       "    </tr>\n",
       "    <tr>\n",
       "      <th>3515</th>\n",
       "      <td>3935</td>\n",
       "      <td>Kronos (1973)</td>\n",
       "      <td>Horror</td>\n",
       "      <td>4.0</td>\n",
       "      <td>Kronos (1973)&lt;br&gt;Horror&lt;br&gt;Popularity:4.0</td>\n",
       "    </tr>\n",
       "    <tr>\n",
       "      <th>3516</th>\n",
       "      <td>3936</td>\n",
       "      <td>Phantom of the Opera, The (1943)</td>\n",
       "      <td>Drama|Thriller</td>\n",
       "      <td>52.0</td>\n",
       "      <td>Phantom of the Opera, The (1943)&lt;br&gt;Drama|Thri...</td>\n",
       "    </tr>\n",
       "    <tr>\n",
       "      <th>3517</th>\n",
       "      <td>3937</td>\n",
       "      <td>Runaway (1984)</td>\n",
       "      <td>Sci-Fi|Thriller</td>\n",
       "      <td>11.0</td>\n",
       "      <td>Runaway (1984)&lt;br&gt;Sci-Fi|Thriller&lt;br&gt;Popularit...</td>\n",
       "    </tr>\n",
       "    <tr>\n",
       "      <th>3518</th>\n",
       "      <td>3938</td>\n",
       "      <td>Slumber Party Massacre, The (1982)</td>\n",
       "      <td>Horror</td>\n",
       "      <td>1.0</td>\n",
       "      <td>Slumber Party Massacre, The (1982)&lt;br&gt;Horror&lt;b...</td>\n",
       "    </tr>\n",
       "    <tr>\n",
       "      <th>3519</th>\n",
       "      <td>3939</td>\n",
       "      <td>Slumber Party Massacre II, The (1987)</td>\n",
       "      <td>Horror</td>\n",
       "      <td>2.0</td>\n",
       "      <td>Slumber Party Massacre II, The (1987)&lt;br&gt;Horro...</td>\n",
       "    </tr>\n",
       "    <tr>\n",
       "      <th>3520</th>\n",
       "      <td>3940</td>\n",
       "      <td>Slumber Party Massacre III, The (1990)</td>\n",
       "      <td>Horror</td>\n",
       "      <td>0.0</td>\n",
       "      <td>Slumber Party Massacre III, The (1990)&lt;br&gt;Horr...</td>\n",
       "    </tr>\n",
       "    <tr>\n",
       "      <th>3521</th>\n",
       "      <td>3941</td>\n",
       "      <td>Sorority House Massacre (1986)</td>\n",
       "      <td>Horror</td>\n",
       "      <td>1.0</td>\n",
       "      <td>Sorority House Massacre (1986)&lt;br&gt;Horror&lt;br&gt;Po...</td>\n",
       "    </tr>\n",
       "    <tr>\n",
       "      <th>3522</th>\n",
       "      <td>3942</td>\n",
       "      <td>Sorority House Massacre II (1990)</td>\n",
       "      <td>Horror</td>\n",
       "      <td>0.0</td>\n",
       "      <td>Sorority House Massacre II (1990)&lt;br&gt;Horror&lt;br...</td>\n",
       "    </tr>\n",
       "    <tr>\n",
       "      <th>3523</th>\n",
       "      <td>3943</td>\n",
       "      <td>Bamboozled (2000)</td>\n",
       "      <td>Comedy</td>\n",
       "      <td>18.0</td>\n",
       "      <td>Bamboozled (2000)&lt;br&gt;Comedy&lt;br&gt;Popularity:18.0</td>\n",
       "    </tr>\n",
       "    <tr>\n",
       "      <th>3524</th>\n",
       "      <td>3944</td>\n",
       "      <td>Bootmen (2000)</td>\n",
       "      <td>Comedy|Drama</td>\n",
       "      <td>1.0</td>\n",
       "      <td>Bootmen (2000)&lt;br&gt;Comedy|Drama&lt;br&gt;Popularity:1.0</td>\n",
       "    </tr>\n",
       "    <tr>\n",
       "      <th>3525</th>\n",
       "      <td>3945</td>\n",
       "      <td>Digimon: The Movie (2000)</td>\n",
       "      <td>Adventure|Animation|Children's</td>\n",
       "      <td>2.0</td>\n",
       "      <td>Digimon: The Movie (2000)&lt;br&gt;Adventure|Animati...</td>\n",
       "    </tr>\n",
       "    <tr>\n",
       "      <th>3526</th>\n",
       "      <td>3946</td>\n",
       "      <td>Get Carter (2000)</td>\n",
       "      <td>Action|Drama|Thriller</td>\n",
       "      <td>9.0</td>\n",
       "      <td>Get Carter (2000)&lt;br&gt;Action|Drama|Thriller&lt;br&gt;...</td>\n",
       "    </tr>\n",
       "    <tr>\n",
       "      <th>3527</th>\n",
       "      <td>3947</td>\n",
       "      <td>Get Carter (1971)</td>\n",
       "      <td>Thriller</td>\n",
       "      <td>13.0</td>\n",
       "      <td>Get Carter (1971)&lt;br&gt;Thriller&lt;br&gt;Popularity:13.0</td>\n",
       "    </tr>\n",
       "    <tr>\n",
       "      <th>3528</th>\n",
       "      <td>3948</td>\n",
       "      <td>Meet the Parents (2000)</td>\n",
       "      <td>Comedy</td>\n",
       "      <td>258.0</td>\n",
       "      <td>Meet the Parents (2000)&lt;br&gt;Comedy&lt;br&gt;Popularit...</td>\n",
       "    </tr>\n",
       "    <tr>\n",
       "      <th>3529</th>\n",
       "      <td>3949</td>\n",
       "      <td>Requiem for a Dream (2000)</td>\n",
       "      <td>Drama</td>\n",
       "      <td>64.0</td>\n",
       "      <td>Requiem for a Dream (2000)&lt;br&gt;Drama&lt;br&gt;Popular...</td>\n",
       "    </tr>\n",
       "    <tr>\n",
       "      <th>3530</th>\n",
       "      <td>3950</td>\n",
       "      <td>Tigerland (2000)</td>\n",
       "      <td>Drama</td>\n",
       "      <td>6.0</td>\n",
       "      <td>Tigerland (2000)&lt;br&gt;Drama&lt;br&gt;Popularity:6.0</td>\n",
       "    </tr>\n",
       "    <tr>\n",
       "      <th>3531</th>\n",
       "      <td>3951</td>\n",
       "      <td>Two Family House (2000)</td>\n",
       "      <td>Drama</td>\n",
       "      <td>15.0</td>\n",
       "      <td>Two Family House (2000)&lt;br&gt;Drama&lt;br&gt;Popularity...</td>\n",
       "    </tr>\n",
       "    <tr>\n",
       "      <th>3532</th>\n",
       "      <td>3952</td>\n",
       "      <td>Contender, The (2000)</td>\n",
       "      <td>Drama|Thriller</td>\n",
       "      <td>130.0</td>\n",
       "      <td>Contender, The (2000)&lt;br&gt;Drama|Thriller&lt;br&gt;Pop...</td>\n",
       "    </tr>\n",
       "  </tbody>\n",
       "</table>\n",
       "<p>3533 rows × 5 columns</p>\n",
       "</div>"
      ],
      "text/plain": [
       "      index                                               name  \\\n",
       "0         1                                   Toy Story (1995)   \n",
       "1         2                                     Jumanji (1995)   \n",
       "2         3                            Grumpier Old Men (1995)   \n",
       "3         4                           Waiting to Exhale (1995)   \n",
       "4         5                 Father of the Bride Part II (1995)   \n",
       "5         6                                        Heat (1995)   \n",
       "6         7                                     Sabrina (1995)   \n",
       "7         8                                Tom and Huck (1995)   \n",
       "8         9                                Sudden Death (1995)   \n",
       "9        10                                   GoldenEye (1995)   \n",
       "10       11                     American President, The (1995)   \n",
       "11       12                 Dracula: Dead and Loving It (1995)   \n",
       "12       13                                       Balto (1995)   \n",
       "13       14                                       Nixon (1995)   \n",
       "14       15                            Cutthroat Island (1995)   \n",
       "15       16                                      Casino (1995)   \n",
       "16       17                       Sense and Sensibility (1995)   \n",
       "17       18                                  Four Rooms (1995)   \n",
       "18       19              Ace Ventura: When Nature Calls (1995)   \n",
       "19       20                                 Money Train (1995)   \n",
       "20       21                                  Get Shorty (1995)   \n",
       "21       22                                     Copycat (1995)   \n",
       "22       23                                   Assassins (1995)   \n",
       "23       24                                      Powder (1995)   \n",
       "24       25                           Leaving Las Vegas (1995)   \n",
       "25       26                                     Othello (1995)   \n",
       "26       27                                Now and Then (1995)   \n",
       "27       28                                  Persuasion (1995)   \n",
       "28       29                  City of Lost Children, The (1995)   \n",
       "29       30  Shanghai Triad (Yao a yao yao dao waipo qiao) ...   \n",
       "...     ...                                                ...   \n",
       "3503   3923                           Return of the Fly (1959)   \n",
       "3504   3924                                Pajama Party (1964)   \n",
       "3505   3925                      Stranger Than Paradise (1984)   \n",
       "3506   3926             Voyage to the Bottom of the Sea (1961)   \n",
       "3507   3927                            Fantastic Voyage (1966)   \n",
       "3508   3928       Abbott and Costello Meet Frankenstein (1948)   \n",
       "3509   3929                              Bank Dick, The (1940)   \n",
       "3510   3930         Creature From the Black Lagoon, The (1954)   \n",
       "3511   3931                     Giant Gila Monster, The (1959)   \n",
       "3512   3932                          Invisible Man, The (1933)   \n",
       "3513   3933                          Killer Shrews, The (1959)   \n",
       "3514   3934                                      Kronos (1957)   \n",
       "3515   3935                                      Kronos (1973)   \n",
       "3516   3936                   Phantom of the Opera, The (1943)   \n",
       "3517   3937                                     Runaway (1984)   \n",
       "3518   3938                 Slumber Party Massacre, The (1982)   \n",
       "3519   3939              Slumber Party Massacre II, The (1987)   \n",
       "3520   3940             Slumber Party Massacre III, The (1990)   \n",
       "3521   3941                     Sorority House Massacre (1986)   \n",
       "3522   3942                  Sorority House Massacre II (1990)   \n",
       "3523   3943                                  Bamboozled (2000)   \n",
       "3524   3944                                     Bootmen (2000)   \n",
       "3525   3945                          Digimon: The Movie (2000)   \n",
       "3526   3946                                  Get Carter (2000)   \n",
       "3527   3947                                  Get Carter (1971)   \n",
       "3528   3948                            Meet the Parents (2000)   \n",
       "3529   3949                         Requiem for a Dream (2000)   \n",
       "3530   3950                                   Tigerland (2000)   \n",
       "3531   3951                            Two Family House (2000)   \n",
       "3532   3952                              Contender, The (2000)   \n",
       "\n",
       "                                type  popularity  \\\n",
       "0        Animation|Children's|Comedy      1047.0   \n",
       "1       Adventure|Children's|Fantasy       108.0   \n",
       "2                     Comedy|Romance        59.0   \n",
       "3                       Comedy|Drama        18.0   \n",
       "4                             Comedy        28.0   \n",
       "5              Action|Crime|Thriller       364.0   \n",
       "6                     Comedy|Romance        72.0   \n",
       "7               Adventure|Children's         7.0   \n",
       "8                             Action        12.0   \n",
       "9          Action|Adventure|Thriller       219.0   \n",
       "10              Comedy|Drama|Romance       326.0   \n",
       "11                     Comedy|Horror        11.0   \n",
       "12              Animation|Children's        19.0   \n",
       "13                             Drama        18.0   \n",
       "14          Action|Adventure|Romance        14.0   \n",
       "15                    Drama|Thriller       170.0   \n",
       "16                     Drama|Romance       359.0   \n",
       "17                          Thriller        15.0   \n",
       "18                            Comedy        29.0   \n",
       "19                            Action         7.0   \n",
       "20               Action|Comedy|Drama       452.0   \n",
       "21              Crime|Drama|Thriller        65.0   \n",
       "22                          Thriller         8.0   \n",
       "23                      Drama|Sci-Fi       117.0   \n",
       "24                     Drama|Romance       319.0   \n",
       "25                             Drama        22.0   \n",
       "26                             Drama         6.0   \n",
       "27                           Romance        72.0   \n",
       "28                  Adventure|Sci-Fi       192.0   \n",
       "29                             Drama        16.0   \n",
       "...                              ...         ...   \n",
       "3503                   Horror|Sci-Fi         9.0   \n",
       "3504                          Comedy         4.0   \n",
       "3505                          Comedy        46.0   \n",
       "3506                Adventure|Sci-Fi        47.0   \n",
       "3507                Adventure|Sci-Fi       111.0   \n",
       "3508                   Comedy|Horror        66.0   \n",
       "3509                          Comedy        78.0   \n",
       "3510                          Horror        58.0   \n",
       "3511                   Horror|Sci-Fi         1.0   \n",
       "3512                   Horror|Sci-Fi        88.0   \n",
       "3513                   Horror|Sci-Fi         1.0   \n",
       "3514                          Sci-Fi         6.0   \n",
       "3515                          Horror         4.0   \n",
       "3516                  Drama|Thriller        52.0   \n",
       "3517                 Sci-Fi|Thriller        11.0   \n",
       "3518                          Horror         1.0   \n",
       "3519                          Horror         2.0   \n",
       "3520                          Horror         0.0   \n",
       "3521                          Horror         1.0   \n",
       "3522                          Horror         0.0   \n",
       "3523                          Comedy        18.0   \n",
       "3524                    Comedy|Drama         1.0   \n",
       "3525  Adventure|Animation|Children's         2.0   \n",
       "3526           Action|Drama|Thriller         9.0   \n",
       "3527                        Thriller        13.0   \n",
       "3528                          Comedy       258.0   \n",
       "3529                           Drama        64.0   \n",
       "3530                           Drama         6.0   \n",
       "3531                           Drama        15.0   \n",
       "3532                  Drama|Thriller       130.0   \n",
       "\n",
       "                                                  notes  \n",
       "0     Toy Story (1995)<br>Animation|Children's|Comed...  \n",
       "1     Jumanji (1995)<br>Adventure|Children's|Fantasy...  \n",
       "2     Grumpier Old Men (1995)<br>Comedy|Romance<br>P...  \n",
       "3     Waiting to Exhale (1995)<br>Comedy|Drama<br>Po...  \n",
       "4     Father of the Bride Part II (1995)<br>Comedy<b...  \n",
       "5     Heat (1995)<br>Action|Crime|Thriller<br>Popula...  \n",
       "6     Sabrina (1995)<br>Comedy|Romance<br>Popularity...  \n",
       "7     Tom and Huck (1995)<br>Adventure|Children's<br...  \n",
       "8      Sudden Death (1995)<br>Action<br>Popularity:12.0  \n",
       "9     GoldenEye (1995)<br>Action|Adventure|Thriller<...  \n",
       "10    American President, The (1995)<br>Comedy|Drama...  \n",
       "11    Dracula: Dead and Loving It (1995)<br>Comedy|H...  \n",
       "12    Balto (1995)<br>Animation|Children's<br>Popula...  \n",
       "13             Nixon (1995)<br>Drama<br>Popularity:18.0  \n",
       "14    Cutthroat Island (1995)<br>Action|Adventure|Ro...  \n",
       "15    Casino (1995)<br>Drama|Thriller<br>Popularity:...  \n",
       "16    Sense and Sensibility (1995)<br>Drama|Romance<...  \n",
       "17     Four Rooms (1995)<br>Thriller<br>Popularity:15.0  \n",
       "18    Ace Ventura: When Nature Calls (1995)<br>Comed...  \n",
       "19       Money Train (1995)<br>Action<br>Popularity:7.0  \n",
       "20    Get Shorty (1995)<br>Action|Comedy|Drama<br>Po...  \n",
       "21    Copycat (1995)<br>Crime|Drama|Thriller<br>Popu...  \n",
       "22       Assassins (1995)<br>Thriller<br>Popularity:8.0  \n",
       "23    Powder (1995)<br>Drama|Sci-Fi<br>Popularity:117.0  \n",
       "24    Leaving Las Vegas (1995)<br>Drama|Romance<br>P...  \n",
       "25           Othello (1995)<br>Drama<br>Popularity:22.0  \n",
       "26       Now and Then (1995)<br>Drama<br>Popularity:6.0  \n",
       "27      Persuasion (1995)<br>Romance<br>Popularity:72.0  \n",
       "28    City of Lost Children, The (1995)<br>Adventure...  \n",
       "29    Shanghai Triad (Yao a yao yao dao waipo qiao) ...  \n",
       "...                                                 ...  \n",
       "3503  Return of the Fly (1959)<br>Horror|Sci-Fi<br>P...  \n",
       "3504    Pajama Party (1964)<br>Comedy<br>Popularity:4.0  \n",
       "3505  Stranger Than Paradise (1984)<br>Comedy<br>Pop...  \n",
       "3506  Voyage to the Bottom of the Sea (1961)<br>Adve...  \n",
       "3507  Fantastic Voyage (1966)<br>Adventure|Sci-Fi<br...  \n",
       "3508  Abbott and Costello Meet Frankenstein (1948)<b...  \n",
       "3509  Bank Dick, The (1940)<br>Comedy<br>Popularity:...  \n",
       "3510  Creature From the Black Lagoon, The (1954)<br>...  \n",
       "3511  Giant Gila Monster, The (1959)<br>Horror|Sci-F...  \n",
       "3512  Invisible Man, The (1933)<br>Horror|Sci-Fi<br>...  \n",
       "3513  Killer Shrews, The (1959)<br>Horror|Sci-Fi<br>...  \n",
       "3514          Kronos (1957)<br>Sci-Fi<br>Popularity:6.0  \n",
       "3515          Kronos (1973)<br>Horror<br>Popularity:4.0  \n",
       "3516  Phantom of the Opera, The (1943)<br>Drama|Thri...  \n",
       "3517  Runaway (1984)<br>Sci-Fi|Thriller<br>Popularit...  \n",
       "3518  Slumber Party Massacre, The (1982)<br>Horror<b...  \n",
       "3519  Slumber Party Massacre II, The (1987)<br>Horro...  \n",
       "3520  Slumber Party Massacre III, The (1990)<br>Horr...  \n",
       "3521  Sorority House Massacre (1986)<br>Horror<br>Po...  \n",
       "3522  Sorority House Massacre II (1990)<br>Horror<br...  \n",
       "3523     Bamboozled (2000)<br>Comedy<br>Popularity:18.0  \n",
       "3524   Bootmen (2000)<br>Comedy|Drama<br>Popularity:1.0  \n",
       "3525  Digimon: The Movie (2000)<br>Adventure|Animati...  \n",
       "3526  Get Carter (2000)<br>Action|Drama|Thriller<br>...  \n",
       "3527   Get Carter (1971)<br>Thriller<br>Popularity:13.0  \n",
       "3528  Meet the Parents (2000)<br>Comedy<br>Popularit...  \n",
       "3529  Requiem for a Dream (2000)<br>Drama<br>Popular...  \n",
       "3530        Tigerland (2000)<br>Drama<br>Popularity:6.0  \n",
       "3531  Two Family House (2000)<br>Drama<br>Popularity...  \n",
       "3532  Contender, The (2000)<br>Drama|Thriller<br>Pop...  \n",
       "\n",
       "[3533 rows x 5 columns]"
      ]
     },
     "execution_count": 11,
     "metadata": {},
     "output_type": "execute_result"
    }
   ],
   "source": [
    "Side_info"
   ]
  },
  {
   "cell_type": "code",
   "execution_count": 131,
   "metadata": {},
   "outputs": [],
   "source": [
    "params = {\n",
    "    'models': {\"PLRec\": embedded_lrec_items,\n",
    "               \"PmiPLRec\": pmi_lrec_items,\n",
    "               \"ALS\": als\n",
    "               },\n",
    "    'alphas': 10,\n",
    "    'rank': 100,\n",
    "    'lambda': 0.01,\n",
    "    'topK': 10,\n",
    "    'iter': 7,\n",
    "    'metric': ['R-Precision', 'NDCG'],\n",
    "}\n"
   ]
  },
  {
   "cell_type": "code",
   "execution_count": 13,
   "metadata": {},
   "outputs": [],
   "source": [
    "item_popularity = np.array(np.sum(R_train, axis=0)).flatten()"
   ]
  },
  {
   "cell_type": "code",
   "execution_count": 14,
   "metadata": {},
   "outputs": [
    {
     "name": "stderr",
     "output_type": "stream",
     "text": [
      "\r",
      "  0%|          | 0/6038 [00:00<?, ?it/s]"
     ]
    },
    {
     "name": "stdout",
     "output_type": "stream",
     "text": [
      "############### Create PMI matrix ################\n",
      "\n"
     ]
    },
    {
     "name": "stderr",
     "output_type": "stream",
     "text": [
      "100%|██████████| 6038/6038 [00:03<00:00, 1713.21it/s]\n"
     ]
    },
    {
     "name": "stdout",
     "output_type": "stream",
     "text": [
      "################# Randomized SVD #################\n",
      "\n",
      "Elapsed: 00:00:00\n",
      "######## Closed-Form Linear Optimization #########\n",
      "\n",
      "Elapsed: 00:00:00\n"
     ]
    }
   ],
   "source": [
    "RQ, Yt, _ = params['models']['PmiPLRec'](R_train, embeded_matrix=np.empty((0)),\n",
    "                                         iteration=params['iter'], rank=params['rank'],\n",
    "                                         lam=params['lambda'], alpha=params['alphas'], seed=1)\n",
    "RQ_pmi = RQ\n",
    "Y_pmi = Yt.T"
   ]
  },
  {
   "cell_type": "code",
   "execution_count": 15,
   "metadata": {},
   "outputs": [],
   "source": [
    "from sklearn.manifold import TSNE"
   ]
  },
  {
   "cell_type": "code",
   "execution_count": 16,
   "metadata": {},
   "outputs": [],
   "source": [
    "Y_embedded = TSNE(n_components=2).fit_transform(Y_pmi)"
   ]
  },
  {
   "cell_type": "code",
   "execution_count": 17,
   "metadata": {},
   "outputs": [],
   "source": [
    "import plotly.plotly as py\n",
    "import plotly\n",
    "plotly.tools.set_credentials_file(username='wuga', api_key='gJlTOHX9OA6h7rlUlkWo')\n",
    "import plotly.graph_objs as go"
   ]
  },
  {
   "cell_type": "code",
   "execution_count": 18,
   "metadata": {},
   "outputs": [
    {
     "data": {
      "text/plain": [
       "array([1047.,  108.,   59., ...,    6.,   15.,  130.])"
      ]
     },
     "execution_count": 18,
     "metadata": {},
     "output_type": "execute_result"
    }
   ],
   "source": [
    "item_popularity"
   ]
  },
  {
   "cell_type": "code",
   "execution_count": 19,
   "metadata": {},
   "outputs": [
    {
     "name": "stdout",
     "output_type": "stream",
     "text": [
      "High five! You successfully sent some data to your account on plotly. View your plot in your browser at https://plot.ly/~wuga/0 or inside your plot.ly account where it is named 'PMIPLREC'\n"
     ]
    },
    {
     "data": {
      "text/html": [
       "<iframe id=\"igraph\" scrolling=\"no\" style=\"border:none;\" seamless=\"seamless\" src=\"https://plot.ly/~wuga/0.embed\" height=\"525px\" width=\"100%\"></iframe>"
      ],
      "text/plain": [
       "<plotly.tools.PlotlyDisplay object>"
      ]
     },
     "execution_count": 19,
     "metadata": {},
     "output_type": "execute_result"
    }
   ],
   "source": [
    "trace0 = go.Scatter(\n",
    "    x=Y_embedded[:, 0],\n",
    "    y=Y_embedded[:, 1],\n",
    "    mode='markers',\n",
    "        marker = dict(\n",
    "        size = 8,\n",
    "        color = item_popularity,\n",
    "        line = dict(\n",
    "            width = 2,\n",
    "        )\n",
    "    ),\n",
    "    #text=Side_info[Side_info['index'].isin(Index)]['type'].as_matrix()\n",
    "    text=Side_info['notes'].str.decode('iso-8859-1').str.encode('utf-8').tolist()\n",
    ")\n",
    "\n",
    "data = [trace0]\n",
    "py.iplot(data, filename='PMIPLREC')\n"
   ]
  },
  {
   "cell_type": "code",
   "execution_count": 20,
   "metadata": {
    "scrolled": true
   },
   "outputs": [
    {
     "name": "stdout",
     "output_type": "stream",
     "text": [
      "###### Alternative Item-wised Optimization #######\n",
      "\n",
      "------------------ Iteration: 0 ------------------\n",
      "\n"
     ]
    },
    {
     "name": "stderr",
     "output_type": "stream",
     "text": [
      "100%|██████████| 6038/6038 [00:08<00:00, 728.65it/s]\n",
      "100%|██████████| 3533/3533 [00:07<00:00, 469.26it/s]\n",
      "  1%|          | 75/6038 [00:00<00:07, 746.19it/s]"
     ]
    },
    {
     "name": "stdout",
     "output_type": "stream",
     "text": [
      "------------------ Iteration: 1 ------------------\n",
      "\n"
     ]
    },
    {
     "name": "stderr",
     "output_type": "stream",
     "text": [
      "100%|██████████| 6038/6038 [00:08<00:00, 751.13it/s]\n",
      "100%|██████████| 3533/3533 [00:07<00:00, 478.78it/s]\n",
      "  1%|          | 75/6038 [00:00<00:07, 745.41it/s]"
     ]
    },
    {
     "name": "stdout",
     "output_type": "stream",
     "text": [
      "------------------ Iteration: 2 ------------------\n",
      "\n"
     ]
    },
    {
     "name": "stderr",
     "output_type": "stream",
     "text": [
      "100%|██████████| 6038/6038 [00:07<00:00, 755.91it/s]\n",
      "100%|██████████| 3533/3533 [00:07<00:00, 475.52it/s]\n",
      "  1%|▏         | 76/6038 [00:00<00:07, 753.64it/s]"
     ]
    },
    {
     "name": "stdout",
     "output_type": "stream",
     "text": [
      "------------------ Iteration: 3 ------------------\n",
      "\n"
     ]
    },
    {
     "name": "stderr",
     "output_type": "stream",
     "text": [
      "100%|██████████| 6038/6038 [00:07<00:00, 765.76it/s]\n",
      "100%|██████████| 3533/3533 [00:07<00:00, 460.10it/s]\n",
      "  1%|          | 71/6038 [00:00<00:08, 703.53it/s]"
     ]
    },
    {
     "name": "stdout",
     "output_type": "stream",
     "text": [
      "------------------ Iteration: 4 ------------------\n",
      "\n"
     ]
    },
    {
     "name": "stderr",
     "output_type": "stream",
     "text": [
      "100%|██████████| 6038/6038 [00:08<00:00, 719.89it/s]\n",
      "100%|██████████| 3533/3533 [00:07<00:00, 466.13it/s]\n",
      "  1%|          | 69/6038 [00:00<00:08, 687.15it/s]"
     ]
    },
    {
     "name": "stdout",
     "output_type": "stream",
     "text": [
      "------------------ Iteration: 5 ------------------\n",
      "\n"
     ]
    },
    {
     "name": "stderr",
     "output_type": "stream",
     "text": [
      "100%|██████████| 6038/6038 [00:08<00:00, 751.62it/s]\n",
      "100%|██████████| 3533/3533 [00:07<00:00, 492.13it/s]\n",
      "  1%|▏         | 79/6038 [00:00<00:07, 787.44it/s]"
     ]
    },
    {
     "name": "stdout",
     "output_type": "stream",
     "text": [
      "------------------ Iteration: 6 ------------------\n",
      "\n"
     ]
    },
    {
     "name": "stderr",
     "output_type": "stream",
     "text": [
      "100%|██████████| 6038/6038 [00:07<00:00, 756.18it/s]\n",
      "100%|██████████| 3533/3533 [00:07<00:00, 466.15it/s]\n"
     ]
    }
   ],
   "source": [
    "# RQ, Yt, _ = params['models']['ALS'](R_train, embeded_matrix=np.empty((0)),\n",
    "#                                          iteration=params['iter'], rank=params['rank'],\n",
    "#                                          lam=params['lambda'], alpha=params['alphas'], seed=1)\n",
    "# RQ_als = RQ\n",
    "# Y_als = Yt.T"
   ]
  },
  {
   "cell_type": "code",
   "execution_count": null,
   "metadata": {},
   "outputs": [],
   "source": [
    "RQ_als = np.load('latent/U_{0}_{1}.npy'.format(\"ALS\", params['rank']))\n",
    "Y_als = np.load('latent/V_{0}_{1}.npy'.format(\"ALS\", params['rank']))"
   ]
  },
  {
   "cell_type": "code",
   "execution_count": 21,
   "metadata": {},
   "outputs": [],
   "source": [
    "Y_als_embedded = TSNE(n_components=2).fit_transform(Y_als)"
   ]
  },
  {
   "cell_type": "code",
   "execution_count": 22,
   "metadata": {},
   "outputs": [
    {
     "data": {
      "text/html": [
       "<iframe id=\"igraph\" scrolling=\"no\" style=\"border:none;\" seamless=\"seamless\" src=\"https://plot.ly/~wuga/2.embed\" height=\"525px\" width=\"100%\"></iframe>"
      ],
      "text/plain": [
       "<plotly.tools.PlotlyDisplay object>"
      ]
     },
     "execution_count": 22,
     "metadata": {},
     "output_type": "execute_result"
    }
   ],
   "source": [
    "trace1 = go.Scatter(\n",
    "    x=Y_als_embedded[:, 0],\n",
    "    y=Y_als_embedded[:, 1],\n",
    "    mode='markers',\n",
    "    marker = dict(\n",
    "        size = 8,\n",
    "        color = item_popularity,\n",
    "        line = dict(\n",
    "            width = 2,\n",
    "        )\n",
    "    ),\n",
    "    #text=Side_info[Side_info['index'].isin(Index)]['type'].as_matrix()\n",
    "    text=Side_info['notes'].str.decode('iso-8859-1').str.encode('utf-8').tolist()\n",
    ")\n",
    "\n",
    "data = [trace1]\n",
    "py.iplot(data, filename='ALS')"
   ]
  },
  {
   "cell_type": "code",
   "execution_count": 23,
   "metadata": {},
   "outputs": [
    {
     "name": "stdout",
     "output_type": "stream",
     "text": [
      "################# Randomized SVD #################\n",
      "\n",
      "Elapsed: 00:00:00\n",
      "######## Closed-Form Linear Optimization #########\n",
      "\n",
      "Elapsed: 00:00:00\n"
     ]
    }
   ],
   "source": [
    "RQ, Yt, _ = params['models']['PLR'](R_train, embeded_matrix=np.empty((0)),\n",
    "                                         iteration=params['iter'], rank=params['rank'],\n",
    "                                         lam=params['lambda'], alpha=params['alphas'], seed=1)\n",
    "RQ_lrec = RQ\n",
    "Y_lrec = Yt.T"
   ]
  },
  {
   "cell_type": "code",
   "execution_count": 24,
   "metadata": {},
   "outputs": [],
   "source": [
    "Y_plrec_embedded = TSNE(n_components=2).fit_transform(Y_lrec)"
   ]
  },
  {
   "cell_type": "code",
   "execution_count": 25,
   "metadata": {},
   "outputs": [
    {
     "data": {
      "text/html": [
       "<iframe id=\"igraph\" scrolling=\"no\" style=\"border:none;\" seamless=\"seamless\" src=\"https://plot.ly/~wuga/4.embed\" height=\"525px\" width=\"100%\"></iframe>"
      ],
      "text/plain": [
       "<plotly.tools.PlotlyDisplay object>"
      ]
     },
     "execution_count": 25,
     "metadata": {},
     "output_type": "execute_result"
    }
   ],
   "source": [
    "trace2 = go.Scatter(\n",
    "    x=Y_plrec_embedded[:, 0],\n",
    "    y=Y_plrec_embedded[:, 1],\n",
    "    mode='markers',\n",
    "    marker = dict(\n",
    "        size = 8,\n",
    "        color = item_popularity,\n",
    "        line = dict(\n",
    "            width = 2,\n",
    "        )\n",
    "    ),\n",
    "    #text=Side_info[Side_info['index'].isin(Index)]['type'].as_matrix()\n",
    "    text=Side_info['notes'].str.decode('iso-8859-1').str.encode('utf-8').tolist()\n",
    ")\n",
    "\n",
    "data = [trace2]\n",
    "py.iplot(data, filename='PLREC')"
   ]
  },
  {
   "cell_type": "markdown",
   "metadata": {},
   "source": [
    "# KNN"
   ]
  },
  {
   "cell_type": "code",
   "execution_count": 26,
   "metadata": {},
   "outputs": [],
   "source": [
    "def getNearestNeighbors(query, embedding, k):\n",
    "    names = (Side_info['notes']\n",
    "             .str.decode('iso-8859-1')\n",
    "             .str.encode('utf-8').tolist())\n",
    "    indices = [i for i, s in enumerate(names) if query in s][0]\n",
    "    rank = np.argsort(np.sum(np.square(embedding-embedding[indices]), axis=1))\n",
    "    return [names[n] for n in rank[:k+1]]"
   ]
  },
  {
   "cell_type": "markdown",
   "metadata": {},
   "source": [
    "## Titanic"
   ]
  },
  {
   "cell_type": "code",
   "execution_count": 27,
   "metadata": {},
   "outputs": [
    {
     "data": {
      "text/plain": [
       "['Titanic (1997)<br>Drama|Romance<br>Popularity:502.0',\n",
       " 'Jerry Maguire (1996)<br>Drama|Romance<br>Popularity:412.0',\n",
       " 'Ever After: A Cinderella Story (1998)<br>Drama|Romance<br>Popularity:118.0',\n",
       " 'Bridges of Madison County, The (1995)<br>Drama|Romance<br>Popularity:64.0',\n",
       " 'Far and Away (1992)<br>Drama|Romance<br>Popularity:84.0',\n",
       " 'Rob Roy (1995)<br>Drama|Romance|War<br>Popularity:147.0',\n",
       " 'Ghost (1990)<br>Comedy|Romance|Thriller<br>Popularity:215.0',\n",
       " 'Notting Hill (1999)<br>Comedy|Romance<br>Popularity:182.0',\n",
       " 'Pretty Woman (1990)<br>Comedy|Romance<br>Popularity:239.0',\n",
       " 'Sabrina (1995)<br>Comedy|Romance<br>Popularity:72.0',\n",
       " 'It Could Happen to You (1994)<br>Drama|Romance<br>Popularity:50.0']"
      ]
     },
     "execution_count": 27,
     "metadata": {},
     "output_type": "execute_result"
    }
   ],
   "source": [
    "getNearestNeighbors('Titanic (1997)', Y_pmi, 10)"
   ]
  },
  {
   "cell_type": "code",
   "execution_count": 28,
   "metadata": {},
   "outputs": [
    {
     "data": {
      "text/plain": [
       "['Titanic (1997)<br>Drama|Romance<br>Popularity:502.0',\n",
       " 'Jerry Maguire (1996)<br>Drama|Romance<br>Popularity:412.0',\n",
       " \"Angela's Ashes (1999)<br>Drama<br>Popularity:65.0\",\n",
       " 'Ever After: A Cinderella Story (1998)<br>Drama|Romance<br>Popularity:118.0',\n",
       " 'Liar Liar (1997)<br>Comedy<br>Popularity:119.0',\n",
       " 'Few Good Men, A (1992)<br>Crime|Drama<br>Popularity:331.0',\n",
       " 'Sense and Sensibility (1995)<br>Drama|Romance<br>Popularity:359.0',\n",
       " 'City of Angels (1998)<br>Romance<br>Popularity:50.0',\n",
       " \"Mr. Holland's Opus (1995)<br>Drama<br>Popularity:125.0\",\n",
       " 'Dumb & Dumber (1994)<br>Comedy<br>Popularity:116.0',\n",
       " 'Dances with Wolves (1990)<br>Adventure|Drama|Western<br>Popularity:484.0']"
      ]
     },
     "execution_count": 28,
     "metadata": {},
     "output_type": "execute_result"
    }
   ],
   "source": [
    "getNearestNeighbors('Titanic (1997)', Y_als, 10)"
   ]
  },
  {
   "cell_type": "code",
   "execution_count": 29,
   "metadata": {},
   "outputs": [
    {
     "data": {
      "text/plain": [
       "['Titanic (1997)<br>Drama|Romance<br>Popularity:502.0',\n",
       " 'Jerry Maguire (1996)<br>Drama|Romance<br>Popularity:412.0',\n",
       " 'Ever After: A Cinderella Story (1998)<br>Drama|Romance<br>Popularity:118.0',\n",
       " 'American President, The (1995)<br>Comedy|Drama|Romance<br>Popularity:326.0',\n",
       " \"Mr. Holland's Opus (1995)<br>Drama<br>Popularity:125.0\",\n",
       " 'Sliding Doors (1998)<br>Drama|Romance<br>Popularity:123.0',\n",
       " 'Notting Hill (1999)<br>Comedy|Romance<br>Popularity:182.0',\n",
       " 'City of Angels (1998)<br>Romance<br>Popularity:50.0',\n",
       " 'It Could Happen to You (1994)<br>Drama|Romance<br>Popularity:50.0',\n",
       " 'Sabrina (1995)<br>Comedy|Romance<br>Popularity:72.0',\n",
       " 'Bridges of Madison County, The (1995)<br>Drama|Romance<br>Popularity:64.0']"
      ]
     },
     "execution_count": 29,
     "metadata": {},
     "output_type": "execute_result"
    }
   ],
   "source": [
    "getNearestNeighbors('Titanic (1997)', Y_lrec, 10)"
   ]
  },
  {
   "cell_type": "markdown",
   "metadata": {},
   "source": [
    "## Star War"
   ]
  },
  {
   "cell_type": "code",
   "execution_count": 30,
   "metadata": {},
   "outputs": [
    {
     "data": {
      "text/plain": [
       "['Star Wars: Episode IV - A New Hope (1977)<br>Action|Adventure|Fantasy|Sci-Fi<br>Popularity:1894.0',\n",
       " 'Star Wars: Episode V - The Empire Strikes Back (1980)<br>Action|Adventure|Drama|Sci-Fi|War<br>Popularity:1839.0',\n",
       " 'Smoke (1995)<br>Drama<br>Popularity:45.0',\n",
       " 'Death and the Maiden (1994)<br>Drama|Thriller<br>Popularity:27.0',\n",
       " 'True Grit (1969)<br>Adventure|Western<br>Popularity:84.0',\n",
       " 'Beautiful Thing (1996)<br>Drama|Romance<br>Popularity:39.0',\n",
       " \"Darby O'Gill and the Little People (1959)<br>Adventure|Children's|Fantasy<br>Popularity:30.0\",\n",
       " 'Man Who Would Be King, The (1975)<br>Adventure<br>Popularity:115.0',\n",
       " \"Nobody's Fool (1994)<br>Drama<br>Popularity:49.0\",\n",
       " 'My Own Private Idaho (1991)<br>Drama<br>Popularity:37.0',\n",
       " 'He Got Game (1998)<br>Drama<br>Popularity:27.0']"
      ]
     },
     "execution_count": 30,
     "metadata": {},
     "output_type": "execute_result"
    }
   ],
   "source": [
    "getNearestNeighbors('Star War', Y_pmi, 10)"
   ]
  },
  {
   "cell_type": "code",
   "execution_count": 31,
   "metadata": {},
   "outputs": [
    {
     "data": {
      "text/plain": [
       "['Star Wars: Episode IV - A New Hope (1977)<br>Action|Adventure|Fantasy|Sci-Fi<br>Popularity:1894.0',\n",
       " 'Star Wars: Episode V - The Empire Strikes Back (1980)<br>Action|Adventure|Drama|Sci-Fi|War<br>Popularity:1839.0',\n",
       " 'Raiders of the Lost Ark (1981)<br>Action|Adventure<br>Popularity:1588.0',\n",
       " 'Alien (1979)<br>Action|Horror|Sci-Fi|Thriller<br>Popularity:1094.0',\n",
       " 'Terminator, The (1984)<br>Action|Sci-Fi|Thriller<br>Popularity:1015.0',\n",
       " 'Matrix, The (1999)<br>Action|Sci-Fi|Thriller<br>Popularity:1490.0',\n",
       " 'Duel in the Sun (1946)<br>Western<br>Popularity:26.0',\n",
       " 'Picnic at Hanging Rock (1975)<br>Drama|Mystery<br>Popularity:53.0',\n",
       " 'Blowup (1966)<br>Drama|Mystery<br>Popularity:90.0',\n",
       " 'Our Town (1940)<br>Drama<br>Popularity:13.0',\n",
       " 'Jurassic Park (1993)<br>Action|Adventure|Sci-Fi<br>Popularity:1133.0']"
      ]
     },
     "execution_count": 31,
     "metadata": {},
     "output_type": "execute_result"
    }
   ],
   "source": [
    "getNearestNeighbors('Star War', Y_als, 10)"
   ]
  },
  {
   "cell_type": "code",
   "execution_count": 32,
   "metadata": {},
   "outputs": [
    {
     "data": {
      "text/plain": [
       "['Star Wars: Episode IV - A New Hope (1977)<br>Action|Adventure|Fantasy|Sci-Fi<br>Popularity:1894.0',\n",
       " \"Willy Wonka and the Chocolate Factory (1971)<br>Adventure|Children's|Comedy|Fantasy<br>Popularity:384.0\",\n",
       " 'Lawrence of Arabia (1962)<br>Adventure|War<br>Popularity:404.0',\n",
       " 'Great Escape, The (1963)<br>Adventure|War<br>Popularity:311.0',\n",
       " 'Treasure of the Sierra Madre, The (1948)<br>Adventure<br>Popularity:206.0',\n",
       " 'Man Who Would Be King, The (1975)<br>Adventure<br>Popularity:115.0',\n",
       " 'Dazed and Confused (1993)<br>Comedy<br>Popularity:195.0',\n",
       " 'Splash (1984)<br>Comedy|Fantasy|Romance<br>Popularity:223.0',\n",
       " 'Jerk, The (1979)<br>Comedy<br>Popularity:129.0',\n",
       " 'Breaking Away (1979)<br>Drama<br>Popularity:196.0',\n",
       " 'Sixteen Candles (1984)<br>Comedy<br>Popularity:182.0']"
      ]
     },
     "execution_count": 32,
     "metadata": {},
     "output_type": "execute_result"
    }
   ],
   "source": [
    "getNearestNeighbors('Star War', Y_lrec, 10)"
   ]
  },
  {
   "cell_type": "markdown",
   "metadata": {},
   "source": [
    "## Lion King"
   ]
  },
  {
   "cell_type": "code",
   "execution_count": 33,
   "metadata": {},
   "outputs": [
    {
     "data": {
      "text/plain": [
       "[\"Lion King, The (1994)<br>Animation|Children's|Musical<br>Popularity:325.0\",\n",
       " \"Mulan (1998)<br>Animation|Children's<br>Popularity:135.0\",\n",
       " \"Tarzan (1999)<br>Animation|Children's<br>Popularity:129.0\",\n",
       " \"Beauty and the Beast (1991)<br>Animation|Children's|Musical<br>Popularity:366.0\",\n",
       " \"Hunchback of Notre Dame, The (1996)<br>Animation|Children's|Musical<br>Popularity:77.0\",\n",
       " \"Little Mermaid, The (1989)<br>Animation|Children's|Comedy|Musical|Romance<br>Popularity:286.0\",\n",
       " \"Robin Hood (1973)<br>Animation|Children's<br>Popularity:87.0\",\n",
       " \"James and the Giant Peach (1996)<br>Animation|Children's|Musical<br>Popularity:129.0\",\n",
       " \"Aladdin (1992)<br>Animation|Children's|Comedy|Musical<br>Popularity:482.0\",\n",
       " \"Antz (1998)<br>Animation|Children's<br>Popularity:142.0\",\n",
       " \"Alice in Wonderland (1951)<br>Animation|Children's|Musical<br>Popularity:136.0\"]"
      ]
     },
     "execution_count": 33,
     "metadata": {},
     "output_type": "execute_result"
    }
   ],
   "source": [
    "getNearestNeighbors('Lion King', Y_pmi, 10)"
   ]
  },
  {
   "cell_type": "code",
   "execution_count": 34,
   "metadata": {},
   "outputs": [
    {
     "data": {
      "text/plain": [
       "[\"Lion King, The (1994)<br>Animation|Children's|Musical<br>Popularity:325.0\",\n",
       " \"Beauty and the Beast (1991)<br>Animation|Children's|Musical<br>Popularity:366.0\",\n",
       " \"Mulan (1998)<br>Animation|Children's<br>Popularity:135.0\",\n",
       " \"Antz (1998)<br>Animation|Children's<br>Popularity:142.0\",\n",
       " \"Tarzan (1999)<br>Animation|Children's<br>Popularity:129.0\",\n",
       " \"Hunchback of Notre Dame, The (1996)<br>Animation|Children's|Musical<br>Popularity:77.0\",\n",
       " \"Cinderella (1950)<br>Animation|Children's|Musical<br>Popularity:143.0\",\n",
       " \"Aladdin (1992)<br>Animation|Children's|Comedy|Musical<br>Popularity:482.0\",\n",
       " \"Anastasia (1997)<br>Animation|Children's|Musical<br>Popularity:71.0\",\n",
       " \"Sleeping Beauty (1959)<br>Animation|Children's|Musical<br>Popularity:112.0\",\n",
       " \"Muppet Christmas Carol, The (1992)<br>Children's|Musical<br>Popularity:51.0\"]"
      ]
     },
     "execution_count": 34,
     "metadata": {},
     "output_type": "execute_result"
    }
   ],
   "source": [
    "getNearestNeighbors('Lion King', Y_als, 10)"
   ]
  },
  {
   "cell_type": "code",
   "execution_count": 35,
   "metadata": {},
   "outputs": [
    {
     "data": {
      "text/plain": [
       "[\"Lion King, The (1994)<br>Animation|Children's|Musical<br>Popularity:325.0\",\n",
       " \"Mulan (1998)<br>Animation|Children's<br>Popularity:135.0\",\n",
       " \"Beauty and the Beast (1991)<br>Animation|Children's|Musical<br>Popularity:366.0\",\n",
       " \"Peter Pan (1953)<br>Animation|Children's|Fantasy|Musical<br>Popularity:151.0\",\n",
       " \"Tarzan (1999)<br>Animation|Children's<br>Popularity:129.0\",\n",
       " \"Hunchback of Notre Dame, The (1996)<br>Animation|Children's|Musical<br>Popularity:77.0\",\n",
       " \"Little Mermaid, The (1989)<br>Animation|Children's|Comedy|Musical|Romance<br>Popularity:286.0\",\n",
       " \"Cinderella (1950)<br>Animation|Children's|Musical<br>Popularity:143.0\",\n",
       " \"Robin Hood (1973)<br>Animation|Children's<br>Popularity:87.0\",\n",
       " \"Charlotte's Web (1973)<br>Animation|Children's<br>Popularity:129.0\",\n",
       " \"Antz (1998)<br>Animation|Children's<br>Popularity:142.0\"]"
      ]
     },
     "execution_count": 35,
     "metadata": {},
     "output_type": "execute_result"
    }
   ],
   "source": [
    "getNearestNeighbors('Lion King', Y_lrec, 10)"
   ]
  },
  {
   "cell_type": "markdown",
   "metadata": {},
   "source": [
    "## Mask"
   ]
  },
  {
   "cell_type": "code",
   "execution_count": 36,
   "metadata": {},
   "outputs": [
    {
     "data": {
      "text/plain": [
       "['Mask, The (1994)<br>Comedy|Crime|Fantasy<br>Popularity:217.0',\n",
       " \"Santa Clause, The (1994)<br>Children's|Comedy|Fantasy<br>Popularity:115.0\",\n",
       " 'Nutty Professor, The (1996)<br>Comedy|Fantasy|Romance|Sci-Fi<br>Popularity:137.0',\n",
       " 'Liar Liar (1997)<br>Comedy<br>Popularity:119.0',\n",
       " 'Heart and Souls (1993)<br>Comedy|Fantasy<br>Popularity:57.0',\n",
       " 'Legend (1985)<br>Adventure|Fantasy|Romance<br>Popularity:63.0',\n",
       " 'Cool Runnings (1993)<br>Comedy<br>Popularity:53.0',\n",
       " 'Mother (1996)<br>Comedy<br>Popularity:38.0',\n",
       " 'Cable Guy, The (1996)<br>Comedy<br>Popularity:25.0',\n",
       " 'Black Sheep (1996)<br>Comedy<br>Popularity:23.0',\n",
       " 'Man Who Knew Too Little, The (1997)<br>Comedy|Mystery<br>Popularity:29.0']"
      ]
     },
     "execution_count": 36,
     "metadata": {},
     "output_type": "execute_result"
    }
   ],
   "source": [
    "getNearestNeighbors('Mask', Y_pmi, 10)"
   ]
  },
  {
   "cell_type": "code",
   "execution_count": 37,
   "metadata": {},
   "outputs": [
    {
     "data": {
      "text/plain": [
       "['Mask, The (1994)<br>Comedy|Crime|Fantasy<br>Popularity:217.0',\n",
       " \"Santa Clause, The (1994)<br>Children's|Comedy|Fantasy<br>Popularity:115.0\",\n",
       " 'Liar Liar (1997)<br>Comedy<br>Popularity:119.0',\n",
       " 'Nutty Professor, The (1996)<br>Comedy|Fantasy|Romance|Sci-Fi<br>Popularity:137.0',\n",
       " \"Small Soldiers (1998)<br>Animation|Children's|Fantasy|War<br>Popularity:40.0\",\n",
       " \"Borrowers, The (1997)<br>Adventure|Children's|Comedy|Fantasy<br>Popularity:28.0\",\n",
       " \"Jumanji (1995)<br>Adventure|Children's|Fantasy<br>Popularity:108.0\",\n",
       " \"FairyTale: A True Story (1997)<br>Children's|Drama|Fantasy<br>Popularity:22.0\",\n",
       " 'That Thing You Do! (1996)<br>Comedy<br>Popularity:96.0',\n",
       " \"Indian in the Cupboard, The (1995)<br>Adventure|Children's|Fantasy<br>Popularity:69.0\",\n",
       " 'Legend (1985)<br>Adventure|Fantasy|Romance<br>Popularity:63.0']"
      ]
     },
     "execution_count": 37,
     "metadata": {},
     "output_type": "execute_result"
    }
   ],
   "source": [
    "getNearestNeighbors('Mask', Y_als, 10)"
   ]
  },
  {
   "cell_type": "code",
   "execution_count": 38,
   "metadata": {},
   "outputs": [
    {
     "data": {
      "text/plain": [
       "['Mask, The (1994)<br>Comedy|Crime|Fantasy<br>Popularity:217.0',\n",
       " \"Santa Clause, The (1994)<br>Children's|Comedy|Fantasy<br>Popularity:115.0\",\n",
       " 'Cool Runnings (1993)<br>Comedy<br>Popularity:53.0',\n",
       " \"Small Soldiers (1998)<br>Animation|Children's|Fantasy|War<br>Popularity:40.0\",\n",
       " 'Sister Act (1992)<br>Comedy|Crime<br>Popularity:89.0',\n",
       " 'Nutty Professor, The (1996)<br>Comedy|Fantasy|Romance|Sci-Fi<br>Popularity:137.0',\n",
       " 'Toys (1992)<br>Action|Comedy|Fantasy<br>Popularity:47.0',\n",
       " \"Flubber (1997)<br>Children's|Comedy|Fantasy<br>Popularity:29.0\",\n",
       " \"Borrowers, The (1997)<br>Adventure|Children's|Comedy|Fantasy<br>Popularity:28.0\",\n",
       " \"Jumanji (1995)<br>Adventure|Children's|Fantasy<br>Popularity:108.0\",\n",
       " \"Indian in the Cupboard, The (1995)<br>Adventure|Children's|Fantasy<br>Popularity:69.0\"]"
      ]
     },
     "execution_count": 38,
     "metadata": {},
     "output_type": "execute_result"
    }
   ],
   "source": [
    "getNearestNeighbors('Mask', Y_lrec, 10)"
   ]
  },
  {
   "cell_type": "markdown",
   "metadata": {},
   "source": [
    "## Amityville"
   ]
  },
  {
   "cell_type": "code",
   "execution_count": 39,
   "metadata": {},
   "outputs": [
    {
     "data": {
      "text/plain": [
       "['Amityville Horror, The (1979)<br>Horror<br>Popularity:41.0',\n",
       " 'Exorcist III, The (1990)<br>Horror<br>Popularity:15.0',\n",
       " 'Masque of the Red Death, The (1964)<br>Horror<br>Popularity:11.0',\n",
       " 'Hunger, The (1983)<br>Horror<br>Popularity:28.0',\n",
       " 'Dracula (1958)<br>Horror<br>Popularity:28.0',\n",
       " 'House on Haunted Hill, The (1999)<br>Horror<br>Popularity:22.0',\n",
       " \"Mummy's Curse, The (1944)<br>Horror<br>Popularity:6.0\",\n",
       " 'Curse of Frankenstein, The (1957)<br>Horror<br>Popularity:10.0',\n",
       " 'Mummy, The (1959)<br>Horror<br>Popularity:16.0',\n",
       " 'Tales from the Crypt Presents: Bordello of Blood (1996)<br>Horror<br>Popularity:17.0',\n",
       " 'Friday the 13th: The Final Chapter (1984)<br>Horror<br>Popularity:7.0']"
      ]
     },
     "execution_count": 39,
     "metadata": {},
     "output_type": "execute_result"
    }
   ],
   "source": [
    "getNearestNeighbors('Amityville Horror', Y_pmi, 10)"
   ]
  },
  {
   "cell_type": "code",
   "execution_count": 40,
   "metadata": {},
   "outputs": [
    {
     "data": {
      "text/plain": [
       "['Amityville Horror, The (1979)<br>Horror<br>Popularity:41.0',\n",
       " 'Masque of the Red Death, The (1964)<br>Horror<br>Popularity:11.0',\n",
       " 'Pit and the Pendulum (1961)<br>Horror<br>Popularity:25.0',\n",
       " 'Exorcist III, The (1990)<br>Horror<br>Popularity:15.0',\n",
       " 'Hunger, The (1983)<br>Horror<br>Popularity:28.0',\n",
       " 'Nightmare on Elm Street 4: The Dream Master, A (1988)<br>Horror<br>Popularity:12.0',\n",
       " 'Fog, The (1980)<br>Horror<br>Popularity:21.0',\n",
       " 'Tales from the Crypt Presents: Bordello of Blood (1996)<br>Horror<br>Popularity:17.0',\n",
       " 'Friday the 13th: The Final Chapter (1984)<br>Horror<br>Popularity:7.0',\n",
       " 'Friday the 13th (1980)<br>Horror<br>Popularity:45.0',\n",
       " 'Mummy, The (1932)<br>Horror|Romance<br>Popularity:27.0']"
      ]
     },
     "execution_count": 40,
     "metadata": {},
     "output_type": "execute_result"
    }
   ],
   "source": [
    "getNearestNeighbors('Amityville Horror', Y_als, 10)"
   ]
  },
  {
   "cell_type": "code",
   "execution_count": 41,
   "metadata": {},
   "outputs": [
    {
     "data": {
      "text/plain": [
       "['Amityville Horror, The (1979)<br>Horror<br>Popularity:41.0',\n",
       " 'Dracula (1958)<br>Horror<br>Popularity:28.0',\n",
       " 'Exorcist III, The (1990)<br>Horror<br>Popularity:15.0',\n",
       " 'Hunger, The (1983)<br>Horror<br>Popularity:28.0',\n",
       " 'Masque of the Red Death, The (1964)<br>Horror<br>Popularity:11.0',\n",
       " 'Cujo (1983)<br>Horror|Thriller<br>Popularity:12.0',\n",
       " 'Pet Sematary (1989)<br>Horror<br>Popularity:34.0',\n",
       " 'Cemetery Man (Dellamorte Dellamore) (1994)<br>Comedy|Horror<br>Popularity:27.0',\n",
       " 'Fog, The (1980)<br>Horror<br>Popularity:21.0',\n",
       " 'Curse of Frankenstein, The (1957)<br>Horror<br>Popularity:10.0',\n",
       " 'Hellbound: Hellraiser II (1988)<br>Horror<br>Popularity:23.0']"
      ]
     },
     "execution_count": 41,
     "metadata": {},
     "output_type": "execute_result"
    }
   ],
   "source": [
    "getNearestNeighbors('Amityville Horror', Y_lrec, 10)"
   ]
  },
  {
   "cell_type": "markdown",
   "metadata": {},
   "source": [
    "## Star Trek"
   ]
  },
  {
   "cell_type": "code",
   "execution_count": 42,
   "metadata": {},
   "outputs": [
    {
     "data": {
      "text/plain": [
       "['Star Trek: Generations (1994)<br>Action|Adventure|Sci-Fi<br>Popularity:238.0',\n",
       " 'Star Trek: Insurrection (1998)<br>Action|Sci-Fi<br>Popularity:187.0',\n",
       " 'Star Trek VI: The Undiscovered Country (1991)<br>Action|Adventure|Sci-Fi<br>Popularity:283.0',\n",
       " 'Star Trek III: The Search for Spock (1984)<br>Action|Adventure|Sci-Fi<br>Popularity:204.0',\n",
       " 'Star Trek V: The Final Frontier (1989)<br>Action|Adventure|Sci-Fi<br>Popularity:57.0',\n",
       " 'Stargate (1994)<br>Action|Adventure|Sci-Fi<br>Popularity:297.0',\n",
       " 'Star Trek: The Motion Picture (1979)<br>Action|Adventure|Sci-Fi<br>Popularity:137.0',\n",
       " 'Lost in Space (1998)<br>Action|Sci-Fi|Thriller<br>Popularity:59.0',\n",
       " 'X-Files: Fight the Future, The (1998)<br>Mystery|Sci-Fi|Thriller<br>Popularity:237.0',\n",
       " 'Sphere (1998)<br>Adventure|Sci-Fi|Thriller<br>Popularity:48.0',\n",
       " 'Moonraker (1979)<br>Action|Romance|Sci-Fi<br>Popularity:106.0']"
      ]
     },
     "execution_count": 42,
     "metadata": {},
     "output_type": "execute_result"
    }
   ],
   "source": [
    "getNearestNeighbors('Star Trek', Y_pmi, 10)"
   ]
  },
  {
   "cell_type": "code",
   "execution_count": 43,
   "metadata": {},
   "outputs": [
    {
     "data": {
      "text/plain": [
       "['Star Trek: Generations (1994)<br>Action|Adventure|Sci-Fi<br>Popularity:238.0',\n",
       " 'Star Trek: Insurrection (1998)<br>Action|Sci-Fi<br>Popularity:187.0',\n",
       " 'Star Trek VI: The Undiscovered Country (1991)<br>Action|Adventure|Sci-Fi<br>Popularity:283.0',\n",
       " 'Star Trek: First Contact (1996)<br>Action|Adventure|Sci-Fi<br>Popularity:485.0',\n",
       " 'Stargate (1994)<br>Action|Adventure|Sci-Fi<br>Popularity:297.0',\n",
       " 'X-Files: Fight the Future, The (1998)<br>Mystery|Sci-Fi|Thriller<br>Popularity:237.0',\n",
       " 'Star Trek V: The Final Frontier (1989)<br>Action|Adventure|Sci-Fi<br>Popularity:57.0',\n",
       " 'Star Trek: The Motion Picture (1979)<br>Action|Adventure|Sci-Fi<br>Popularity:137.0',\n",
       " 'Timecop (1994)<br>Action|Sci-Fi<br>Popularity:59.0',\n",
       " 'Lost in Space (1998)<br>Action|Sci-Fi|Thriller<br>Popularity:59.0',\n",
       " 'Star Trek III: The Search for Spock (1984)<br>Action|Adventure|Sci-Fi<br>Popularity:204.0']"
      ]
     },
     "execution_count": 43,
     "metadata": {},
     "output_type": "execute_result"
    }
   ],
   "source": [
    "getNearestNeighbors('Star Trek', Y_als, 10)"
   ]
  },
  {
   "cell_type": "code",
   "execution_count": 44,
   "metadata": {},
   "outputs": [
    {
     "data": {
      "text/plain": [
       "['Star Trek: Generations (1994)<br>Action|Adventure|Sci-Fi<br>Popularity:238.0',\n",
       " 'Star Trek: Insurrection (1998)<br>Action|Sci-Fi<br>Popularity:187.0',\n",
       " 'Star Trek VI: The Undiscovered Country (1991)<br>Action|Adventure|Sci-Fi<br>Popularity:283.0',\n",
       " 'Stargate (1994)<br>Action|Adventure|Sci-Fi<br>Popularity:297.0',\n",
       " 'Star Trek III: The Search for Spock (1984)<br>Action|Adventure|Sci-Fi<br>Popularity:204.0',\n",
       " 'Star Trek: The Motion Picture (1979)<br>Action|Adventure|Sci-Fi<br>Popularity:137.0',\n",
       " 'Star Trek V: The Final Frontier (1989)<br>Action|Adventure|Sci-Fi<br>Popularity:57.0',\n",
       " 'X-Files: Fight the Future, The (1998)<br>Mystery|Sci-Fi|Thriller<br>Popularity:237.0',\n",
       " 'Lost in Space (1998)<br>Action|Sci-Fi|Thriller<br>Popularity:59.0',\n",
       " 'Moonraker (1979)<br>Action|Romance|Sci-Fi<br>Popularity:106.0',\n",
       " 'Star Trek IV: The Voyage Home (1986)<br>Action|Adventure|Sci-Fi<br>Popularity:372.0']"
      ]
     },
     "execution_count": 44,
     "metadata": {},
     "output_type": "execute_result"
    }
   ],
   "source": [
    "getNearestNeighbors('Star Trek', Y_lrec, 10)"
   ]
  },
  {
   "cell_type": "code",
   "execution_count": 108,
   "metadata": {},
   "outputs": [
    {
     "data": {
      "text/plain": [
       "array([1614, 5150, 4544, 3957, 3235, 4293, 4362, 1620,   20, 3487])"
      ]
     },
     "execution_count": 108,
     "metadata": {},
     "output_type": "execute_result"
    }
   ],
   "source": [
    "np.argpartition(np.asarray(np.sum(R_train,axis=1)).reshape(-1)[np.asarray(np.sum(R_train,axis=1)).reshape(-1)>=2], 10)[:10]"
   ]
  },
  {
   "cell_type": "markdown",
   "metadata": {},
   "source": [
    "## Case Study 1"
   ]
  },
  {
   "cell_type": "code",
   "execution_count": 110,
   "metadata": {},
   "outputs": [],
   "source": [
    "case = 1614"
   ]
  },
  {
   "cell_type": "code",
   "execution_count": 111,
   "metadata": {},
   "outputs": [
    {
     "data": {
      "text/plain": [
       "array(['North by Northwest (1959)<br>Drama|Thriller<br>Popularity:799.0',\n",
       "       'Almost Famous (2000)<br>Comedy|Drama<br>Popularity:429.0',\n",
       "       'Requiem for a Dream (2000)<br>Drama<br>Popularity:64.0'],\n",
       "      dtype=object)"
      ]
     },
     "execution_count": 111,
     "metadata": {},
     "output_type": "execute_result"
    }
   ],
   "source": [
    "Side_info['notes'].values[R_train[case].nonzero()[1]]"
   ]
  },
  {
   "cell_type": "code",
   "execution_count": 112,
   "metadata": {},
   "outputs": [],
   "source": [
    "pd.set_option('display.max_colwidth', -1)"
   ]
  },
  {
   "cell_type": "code",
   "execution_count": 113,
   "metadata": {},
   "outputs": [],
   "source": [
    "def getRecommendation(R_train, RQ, Y, index, k):\n",
    "    user = RQ[index]\n",
    "    idx = np.argsort(-Y.dot(user))\n",
    "    filtered = np.delete(idx, np.isin(idx, R_train[index].nonzero()[1]).nonzero()[0])\n",
    "    return Side_info['notes'].values[filtered][:k]"
   ]
  },
  {
   "cell_type": "code",
   "execution_count": 114,
   "metadata": {},
   "outputs": [
    {
     "data": {
      "text/plain": [
       "array(['Airplane! (1980)<br>Comedy<br>Popularity:750.0',\n",
       "       'High Fidelity (2000)<br>Comedy<br>Popularity:565.0',\n",
       "       'Magnolia (1999)<br>Drama<br>Popularity:471.0',\n",
       "       'Best in Show (2000)<br>Comedy<br>Popularity:237.0',\n",
       "       'Rear Window (1954)<br>Mystery|Thriller<br>Popularity:505.0'],\n",
       "      dtype=object)"
      ]
     },
     "execution_count": 114,
     "metadata": {},
     "output_type": "execute_result"
    }
   ],
   "source": [
    "getRecommendation(R_train, RQ_pmi, Y_pmi, case, 5)"
   ]
  },
  {
   "cell_type": "code",
   "execution_count": 115,
   "metadata": {},
   "outputs": [
    {
     "data": {
      "text/plain": [
       "array(['Best in Show (2000)<br>Comedy<br>Popularity:237.0',\n",
       "       'Nurse Betty (2000)<br>Comedy|Thriller<br>Popularity:173.0',\n",
       "       'Meet the Parents (2000)<br>Comedy<br>Popularity:258.0',\n",
       "       'High Fidelity (2000)<br>Comedy<br>Popularity:565.0',\n",
       "       'Contender, The (2000)<br>Drama|Thriller<br>Popularity:130.0'],\n",
       "      dtype=object)"
      ]
     },
     "execution_count": 115,
     "metadata": {},
     "output_type": "execute_result"
    }
   ],
   "source": [
    "getRecommendation(R_train, RQ_als, Y_als, case, 5)"
   ]
  },
  {
   "cell_type": "code",
   "execution_count": 116,
   "metadata": {},
   "outputs": [
    {
     "data": {
      "text/plain": [
       "array(['High Fidelity (2000)<br>Comedy<br>Popularity:565.0',\n",
       "       'Airplane! (1980)<br>Comedy<br>Popularity:750.0',\n",
       "       'Magnolia (1999)<br>Drama<br>Popularity:471.0',\n",
       "       'Rear Window (1954)<br>Mystery|Thriller<br>Popularity:505.0',\n",
       "       'Stand by Me (1986)<br>Adventure|Comedy|Drama<br>Popularity:886.0'],\n",
       "      dtype=object)"
      ]
     },
     "execution_count": 116,
     "metadata": {},
     "output_type": "execute_result"
    }
   ],
   "source": [
    "getRecommendation(R_train, RQ_lrec, Y_lrec, case, 5)"
   ]
  },
  {
   "cell_type": "markdown",
   "metadata": {},
   "source": [
    "## Case Study 2"
   ]
  },
  {
   "cell_type": "code",
   "execution_count": 119,
   "metadata": {},
   "outputs": [],
   "source": [
    "case = 4544"
   ]
  },
  {
   "cell_type": "code",
   "execution_count": 120,
   "metadata": {},
   "outputs": [
    {
     "data": {
      "text/plain": [
       "array(['Jurassic Park (1993)<br>Action|Adventure|Sci-Fi<br>Popularity:1133.0',\n",
       "       u\"Bug's Life, A (1998)<br>Animation|Children's|Comedy<br>Popularity:761.0\",\n",
       "       'American Beauty (1999)<br>Comedy|Drama<br>Popularity:2265.0'],\n",
       "      dtype=object)"
      ]
     },
     "execution_count": 120,
     "metadata": {},
     "output_type": "execute_result"
    }
   ],
   "source": [
    "Side_info['notes'].values[R_train[case].nonzero()[1]]"
   ]
  },
  {
   "cell_type": "code",
   "execution_count": 121,
   "metadata": {},
   "outputs": [
    {
     "data": {
      "text/plain": [
       "array(['Braveheart (1995)<br>Action|Drama|War<br>Popularity:1391.0',\n",
       "       'Men in Black (1997)<br>Action|Adventure|Comedy|Sci-Fi<br>Popularity:950.0',\n",
       "       u\"Toy Story (1995)<br>Animation|Children's|Comedy<br>Popularity:1047.0\",\n",
       "       'Terminator 2: Judgment Day (1991)<br>Action|Sci-Fi|Thriller<br>Popularity:1419.0',\n",
       "       'Being John Malkovich (1999)<br>Comedy<br>Popularity:1270.0',\n",
       "       u\"Toy Story 2 (1999)<br>Animation|Children's|Comedy<br>Popularity:803.0\",\n",
       "       'Stand by Me (1986)<br>Adventure|Comedy|Drama<br>Popularity:886.0',\n",
       "       'American Pie (1999)<br>Comedy<br>Popularity:527.0',\n",
       "       'Shakespeare in Love (1998)<br>Comedy|Romance<br>Popularity:1243.0',\n",
       "       'Clerks (1994)<br>Comedy<br>Popularity:628.0'], dtype=object)"
      ]
     },
     "execution_count": 121,
     "metadata": {},
     "output_type": "execute_result"
    }
   ],
   "source": [
    "getRecommendation(R_train, RQ_pmi, Y_pmi, case, 10)"
   ]
  },
  {
   "cell_type": "code",
   "execution_count": 122,
   "metadata": {},
   "outputs": [
    {
     "data": {
      "text/plain": [
       "array(['Braveheart (1995)<br>Action|Drama|War<br>Popularity:1391.0',\n",
       "       u\"Toy Story (1995)<br>Animation|Children's|Comedy<br>Popularity:1047.0\",\n",
       "       'Men in Black (1997)<br>Action|Adventure|Comedy|Sci-Fi<br>Popularity:950.0',\n",
       "       'Being John Malkovich (1999)<br>Comedy<br>Popularity:1270.0',\n",
       "       u\"Toy Story 2 (1999)<br>Animation|Children's|Comedy<br>Popularity:803.0\",\n",
       "       'Saving Private Ryan (1998)<br>Action|Drama|War<br>Popularity:1673.0',\n",
       "       'Terminator 2: Judgment Day (1991)<br>Action|Sci-Fi|Thriller<br>Popularity:1419.0',\n",
       "       'Star Wars: Episode VI - Return of the Jedi (1983)<br>Action|Adventure|Romance|Sci-Fi|War<br>Popularity:1585.0',\n",
       "       \"Babe (1995)<br>Children's|Comedy|Drama<br>Popularity:759.0\",\n",
       "       'American Pie (1999)<br>Comedy<br>Popularity:527.0'], dtype=object)"
      ]
     },
     "execution_count": 122,
     "metadata": {},
     "output_type": "execute_result"
    }
   ],
   "source": [
    "getRecommendation(R_train, RQ_als, Y_als, case, 10)"
   ]
  },
  {
   "cell_type": "code",
   "execution_count": 123,
   "metadata": {},
   "outputs": [
    {
     "data": {
      "text/plain": [
       "array(['Men in Black (1997)<br>Action|Adventure|Comedy|Sci-Fi<br>Popularity:950.0',\n",
       "       u\"Toy Story (1995)<br>Animation|Children's|Comedy<br>Popularity:1047.0\",\n",
       "       u\"Toy Story 2 (1999)<br>Animation|Children's|Comedy<br>Popularity:803.0\",\n",
       "       'American Pie (1999)<br>Comedy<br>Popularity:527.0',\n",
       "       'Terminator 2: Judgment Day (1991)<br>Action|Sci-Fi|Thriller<br>Popularity:1419.0',\n",
       "       'Austin Powers: The Spy Who Shagged Me (1999)<br>Comedy<br>Popularity:421.0',\n",
       "       'Forrest Gump (1994)<br>Comedy|Romance|War<br>Popularity:961.0',\n",
       "       'Total Recall (1990)<br>Action|Adventure|Sci-Fi|Thriller<br>Popularity:770.0',\n",
       "       'Casablanca (1942)<br>Drama|Romance|War<br>Popularity:967.0',\n",
       "       'Abyss, The (1989)<br>Action|Adventure|Sci-Fi|Thriller<br>Popularity:632.0'],\n",
       "      dtype=object)"
      ]
     },
     "execution_count": 123,
     "metadata": {},
     "output_type": "execute_result"
    }
   ],
   "source": [
    "getRecommendation(R_train, RQ_lrec, Y_lrec, case, 10)"
   ]
  },
  {
   "cell_type": "markdown",
   "metadata": {},
   "source": [
    "## Case Study 3"
   ]
  },
  {
   "cell_type": "code",
   "execution_count": 124,
   "metadata": {},
   "outputs": [],
   "source": [
    "case = 3957"
   ]
  },
  {
   "cell_type": "code",
   "execution_count": 125,
   "metadata": {
    "scrolled": true
   },
   "outputs": [
    {
     "data": {
      "text/plain": [
       "array([\"One Flew Over the Cuckoo's Nest (1975)<br>Drama<br>Popularity:1097.0\",\n",
       "       'Gladiator (2000)<br>Action|Drama<br>Popularity:867.0',\n",
       "       'Shanghai Noon (2000)<br>Action<br>Popularity:298.0'], dtype=object)"
      ]
     },
     "execution_count": 125,
     "metadata": {},
     "output_type": "execute_result"
    }
   ],
   "source": [
    "Side_info['notes'].values[R_train[case].nonzero()[1]]"
   ]
  },
  {
   "cell_type": "code",
   "execution_count": 126,
   "metadata": {},
   "outputs": [
    {
     "data": {
      "text/plain": [
       "array(['Patriot, The (2000)<br>Action|Drama|War<br>Popularity:460.0',\n",
       "       'X-Men (2000)<br>Action|Sci-Fi<br>Popularity:612.0',\n",
       "       'Mission: Impossible 2 (2000)<br>Action|Thriller<br>Popularity:330.0',\n",
       "       u\"Chicken Run (2000)<br>Animation|Children's|Comedy<br>Popularity:589.0\",\n",
       "       'Erin Brockovich (2000)<br>Drama<br>Popularity:536.0',\n",
       "       'U-571 (2000)<br>Action|Thriller<br>Popularity:263.0',\n",
       "       'Godfather, The (1972)<br>Action|Crime|Drama<br>Popularity:1438.0',\n",
       "       'Perfect Storm, The (2000)<br>Action|Adventure|Thriller<br>Popularity:236.0',\n",
       "       'Braveheart (1995)<br>Action|Drama|War<br>Popularity:1391.0',\n",
       "       'High Fidelity (2000)<br>Comedy<br>Popularity:565.0'], dtype=object)"
      ]
     },
     "execution_count": 126,
     "metadata": {},
     "output_type": "execute_result"
    }
   ],
   "source": [
    "getRecommendation(R_train, RQ_pmi, Y_pmi, case, 10)"
   ]
  },
  {
   "cell_type": "code",
   "execution_count": 127,
   "metadata": {},
   "outputs": [
    {
     "data": {
      "text/plain": [
       "array(['Patriot, The (2000)<br>Action|Drama|War<br>Popularity:460.0',\n",
       "       'X-Men (2000)<br>Action|Sci-Fi<br>Popularity:612.0',\n",
       "       u\"Chicken Run (2000)<br>Animation|Children's|Comedy<br>Popularity:589.0\",\n",
       "       'Mission: Impossible 2 (2000)<br>Action|Thriller<br>Popularity:330.0',\n",
       "       'Perfect Storm, The (2000)<br>Action|Adventure|Thriller<br>Popularity:236.0',\n",
       "       \"Schindler's List (1993)<br>Drama|War<br>Popularity:1505.0\",\n",
       "       'High Fidelity (2000)<br>Comedy<br>Popularity:565.0',\n",
       "       'U-571 (2000)<br>Action|Thriller<br>Popularity:263.0',\n",
       "       'Remember the Titans (2000)<br>Drama<br>Popularity:159.0',\n",
       "       'Galaxy Quest (1999)<br>Adventure|Comedy|Sci-Fi<br>Popularity:735.0'],\n",
       "      dtype=object)"
      ]
     },
     "execution_count": 127,
     "metadata": {},
     "output_type": "execute_result"
    }
   ],
   "source": [
    "getRecommendation(R_train, RQ_als, Y_als, case, 10)"
   ]
  },
  {
   "cell_type": "code",
   "execution_count": 128,
   "metadata": {},
   "outputs": [
    {
     "data": {
      "text/plain": [
       "array(['Patriot, The (2000)<br>Action|Drama|War<br>Popularity:460.0',\n",
       "       'X-Men (2000)<br>Action|Sci-Fi<br>Popularity:612.0',\n",
       "       u\"Chicken Run (2000)<br>Animation|Children's|Comedy<br>Popularity:589.0\",\n",
       "       'Mission: Impossible 2 (2000)<br>Action|Thriller<br>Popularity:330.0',\n",
       "       'Erin Brockovich (2000)<br>Drama<br>Popularity:536.0',\n",
       "       'L.A. Confidential (1997)<br>Crime|Film-Noir|Mystery|Thriller<br>Popularity:1268.0',\n",
       "       'Perfect Storm, The (2000)<br>Action|Adventure|Thriller<br>Popularity:236.0',\n",
       "       'U-571 (2000)<br>Action|Thriller<br>Popularity:263.0',\n",
       "       'Braveheart (1995)<br>Action|Drama|War<br>Popularity:1391.0',\n",
       "       'To Kill a Mockingbird (1962)<br>Drama<br>Popularity:473.0'],\n",
       "      dtype=object)"
      ]
     },
     "execution_count": 128,
     "metadata": {},
     "output_type": "execute_result"
    }
   ],
   "source": [
    "getRecommendation(R_train, RQ_lrec, Y_lrec, case, 10)"
   ]
  },
  {
   "cell_type": "code",
   "execution_count": 65,
   "metadata": {},
   "outputs": [
    {
     "data": {
      "text/plain": [
       "'GoodFellas (1990)<br>Crime|Drama<br>Popularity:857.0'"
      ]
     },
     "execution_count": 65,
     "metadata": {},
     "output_type": "execute_result"
    }
   ],
   "source": [
    "Side_info['notes'][1058]"
   ]
  },
  {
   "cell_type": "code",
   "execution_count": null,
   "metadata": {},
   "outputs": [],
   "source": []
  },
  {
   "cell_type": "code",
   "execution_count": null,
   "metadata": {},
   "outputs": [],
   "source": []
  }
 ],
 "metadata": {
  "kernelspec": {
   "display_name": "Python 2",
   "language": "python",
   "name": "python2"
  },
  "language_info": {
   "codemirror_mode": {
    "name": "ipython",
    "version": 2
   },
   "file_extension": ".py",
   "mimetype": "text/x-python",
   "name": "python",
   "nbconvert_exporter": "python",
   "pygments_lexer": "ipython2",
   "version": "2.7.12"
  }
 },
 "nbformat": 4,
 "nbformat_minor": 2
}
