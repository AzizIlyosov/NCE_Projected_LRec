{
 "cells": [
  {
   "cell_type": "code",
   "execution_count": 1,
   "metadata": {
    "scrolled": true
   },
   "outputs": [
    {
     "name": "stderr",
     "output_type": "stream",
     "text": [
      "/usr/local/lib/python2.7/dist-packages/h5py/__init__.py:36: FutureWarning: Conversion of the second argument of issubdtype from `float` to `np.floating` is deprecated. In future, it will be treated as `np.float64 == np.dtype(float).type`.\n",
      "  from ._conv import register_converters as _register_converters\n",
      "/usr/local/lib/python2.7/dist-packages/ipywidgets/widgets/widget.py:281: DeprecationWarning:\n",
      "\n",
      "Widget registration using a string name has been deprecated. Widget registration now uses a plain `@register` decorator.\n",
      "\n"
     ]
    }
   ],
   "source": [
    "import argparse\n",
    "from utils.io import load_numpy\n",
    "import numpy as np\n",
    "from experiment.latent_analysis import latent_analysis\n",
    "from experiment.popular_analysis import popular_overlapping\n",
    "from utils.argument import shape\n",
    "from utils.argument import check_float_positive, check_int_positive, shape\n",
    "\n",
    "from models.lrec import embedded_lrec_items\n",
    "from models.weighted_lrec import weighted_lrec_items\n",
    "from models.pure_svd import pure_svd, eigen_boosted_pure_svd\n",
    "from models.als import als\n",
    "from models.pmi_lrec import pmi_lrec_items\n",
    "from models.weighted_pmi_lrec import weighted_pmi_lrec_items\n",
    "from models.chainitemitem import chain_item_item\n",
    "from models.predictor import predict\n",
    "from experiment.latent_analysis import latent_case_study\n",
    "import pandas as pd"
   ]
  },
  {
   "cell_type": "code",
   "execution_count": 2,
   "metadata": {},
   "outputs": [],
   "source": [
    "argpath = 'datax/'\n",
    "argtrain = 'Rtrain.npz'\n",
    "argvalid = 'Rvalid.npz'\n",
    "argindex = 'Index.npy'\n",
    "argside = 'ml-1m/movies.dat'"
   ]
  },
  {
   "cell_type": "code",
   "execution_count": 3,
   "metadata": {},
   "outputs": [
    {
     "name": "stderr",
     "output_type": "stream",
     "text": [
      "/usr/local/lib/python2.7/dist-packages/ipykernel_launcher.py:3: ParserWarning:\n",
      "\n",
      "Falling back to the 'python' engine because the 'c' engine does not support regex separators (separators > 1 char and different from '\\s+' are interpreted as regex); you can avoid this warning by specifying engine='python'.\n",
      "\n"
     ]
    }
   ],
   "source": [
    "R_train = load_numpy(path=argpath, name=argtrain)\n",
    "Index = np.load(argpath+argindex)\n",
    "Side_info = pd.read_csv(argpath+argside, delimiter='::', names=['index', 'name', 'type'], encoding='utf-8')"
   ]
  },
  {
   "cell_type": "code",
   "execution_count": 4,
   "metadata": {},
   "outputs": [],
   "source": [
    "Side_info['notes'] = Side_info['name'] + '<br>' + Side_info['type']"
   ]
  },
  {
   "cell_type": "code",
   "execution_count": 5,
   "metadata": {},
   "outputs": [
    {
     "data": {
      "text/html": [
       "<div>\n",
       "<style scoped>\n",
       "    .dataframe tbody tr th:only-of-type {\n",
       "        vertical-align: middle;\n",
       "    }\n",
       "\n",
       "    .dataframe tbody tr th {\n",
       "        vertical-align: top;\n",
       "    }\n",
       "\n",
       "    .dataframe thead th {\n",
       "        text-align: right;\n",
       "    }\n",
       "</style>\n",
       "<table border=\"1\" class=\"dataframe\">\n",
       "  <thead>\n",
       "    <tr style=\"text-align: right;\">\n",
       "      <th></th>\n",
       "      <th>index</th>\n",
       "      <th>name</th>\n",
       "      <th>type</th>\n",
       "      <th>notes</th>\n",
       "    </tr>\n",
       "  </thead>\n",
       "  <tbody>\n",
       "    <tr>\n",
       "      <th>0</th>\n",
       "      <td>1</td>\n",
       "      <td>Toy Story (1995)</td>\n",
       "      <td>Animation|Children's|Comedy</td>\n",
       "      <td>Toy Story (1995)&lt;br&gt;Animation|Children's|Comedy</td>\n",
       "    </tr>\n",
       "    <tr>\n",
       "      <th>1</th>\n",
       "      <td>2</td>\n",
       "      <td>Jumanji (1995)</td>\n",
       "      <td>Adventure|Children's|Fantasy</td>\n",
       "      <td>Jumanji (1995)&lt;br&gt;Adventure|Children's|Fantasy</td>\n",
       "    </tr>\n",
       "    <tr>\n",
       "      <th>2</th>\n",
       "      <td>3</td>\n",
       "      <td>Grumpier Old Men (1995)</td>\n",
       "      <td>Comedy|Romance</td>\n",
       "      <td>Grumpier Old Men (1995)&lt;br&gt;Comedy|Romance</td>\n",
       "    </tr>\n",
       "    <tr>\n",
       "      <th>3</th>\n",
       "      <td>4</td>\n",
       "      <td>Waiting to Exhale (1995)</td>\n",
       "      <td>Comedy|Drama</td>\n",
       "      <td>Waiting to Exhale (1995)&lt;br&gt;Comedy|Drama</td>\n",
       "    </tr>\n",
       "    <tr>\n",
       "      <th>4</th>\n",
       "      <td>5</td>\n",
       "      <td>Father of the Bride Part II (1995)</td>\n",
       "      <td>Comedy</td>\n",
       "      <td>Father of the Bride Part II (1995)&lt;br&gt;Comedy</td>\n",
       "    </tr>\n",
       "    <tr>\n",
       "      <th>5</th>\n",
       "      <td>6</td>\n",
       "      <td>Heat (1995)</td>\n",
       "      <td>Action|Crime|Thriller</td>\n",
       "      <td>Heat (1995)&lt;br&gt;Action|Crime|Thriller</td>\n",
       "    </tr>\n",
       "    <tr>\n",
       "      <th>6</th>\n",
       "      <td>7</td>\n",
       "      <td>Sabrina (1995)</td>\n",
       "      <td>Comedy|Romance</td>\n",
       "      <td>Sabrina (1995)&lt;br&gt;Comedy|Romance</td>\n",
       "    </tr>\n",
       "    <tr>\n",
       "      <th>7</th>\n",
       "      <td>8</td>\n",
       "      <td>Tom and Huck (1995)</td>\n",
       "      <td>Adventure|Children's</td>\n",
       "      <td>Tom and Huck (1995)&lt;br&gt;Adventure|Children's</td>\n",
       "    </tr>\n",
       "    <tr>\n",
       "      <th>8</th>\n",
       "      <td>9</td>\n",
       "      <td>Sudden Death (1995)</td>\n",
       "      <td>Action</td>\n",
       "      <td>Sudden Death (1995)&lt;br&gt;Action</td>\n",
       "    </tr>\n",
       "    <tr>\n",
       "      <th>9</th>\n",
       "      <td>10</td>\n",
       "      <td>GoldenEye (1995)</td>\n",
       "      <td>Action|Adventure|Thriller</td>\n",
       "      <td>GoldenEye (1995)&lt;br&gt;Action|Adventure|Thriller</td>\n",
       "    </tr>\n",
       "    <tr>\n",
       "      <th>10</th>\n",
       "      <td>11</td>\n",
       "      <td>American President, The (1995)</td>\n",
       "      <td>Comedy|Drama|Romance</td>\n",
       "      <td>American President, The (1995)&lt;br&gt;Comedy|Drama...</td>\n",
       "    </tr>\n",
       "    <tr>\n",
       "      <th>11</th>\n",
       "      <td>12</td>\n",
       "      <td>Dracula: Dead and Loving It (1995)</td>\n",
       "      <td>Comedy|Horror</td>\n",
       "      <td>Dracula: Dead and Loving It (1995)&lt;br&gt;Comedy|H...</td>\n",
       "    </tr>\n",
       "    <tr>\n",
       "      <th>12</th>\n",
       "      <td>13</td>\n",
       "      <td>Balto (1995)</td>\n",
       "      <td>Animation|Children's</td>\n",
       "      <td>Balto (1995)&lt;br&gt;Animation|Children's</td>\n",
       "    </tr>\n",
       "    <tr>\n",
       "      <th>13</th>\n",
       "      <td>14</td>\n",
       "      <td>Nixon (1995)</td>\n",
       "      <td>Drama</td>\n",
       "      <td>Nixon (1995)&lt;br&gt;Drama</td>\n",
       "    </tr>\n",
       "    <tr>\n",
       "      <th>14</th>\n",
       "      <td>15</td>\n",
       "      <td>Cutthroat Island (1995)</td>\n",
       "      <td>Action|Adventure|Romance</td>\n",
       "      <td>Cutthroat Island (1995)&lt;br&gt;Action|Adventure|Ro...</td>\n",
       "    </tr>\n",
       "    <tr>\n",
       "      <th>15</th>\n",
       "      <td>16</td>\n",
       "      <td>Casino (1995)</td>\n",
       "      <td>Drama|Thriller</td>\n",
       "      <td>Casino (1995)&lt;br&gt;Drama|Thriller</td>\n",
       "    </tr>\n",
       "    <tr>\n",
       "      <th>16</th>\n",
       "      <td>17</td>\n",
       "      <td>Sense and Sensibility (1995)</td>\n",
       "      <td>Drama|Romance</td>\n",
       "      <td>Sense and Sensibility (1995)&lt;br&gt;Drama|Romance</td>\n",
       "    </tr>\n",
       "    <tr>\n",
       "      <th>17</th>\n",
       "      <td>18</td>\n",
       "      <td>Four Rooms (1995)</td>\n",
       "      <td>Thriller</td>\n",
       "      <td>Four Rooms (1995)&lt;br&gt;Thriller</td>\n",
       "    </tr>\n",
       "    <tr>\n",
       "      <th>18</th>\n",
       "      <td>19</td>\n",
       "      <td>Ace Ventura: When Nature Calls (1995)</td>\n",
       "      <td>Comedy</td>\n",
       "      <td>Ace Ventura: When Nature Calls (1995)&lt;br&gt;Comedy</td>\n",
       "    </tr>\n",
       "    <tr>\n",
       "      <th>19</th>\n",
       "      <td>20</td>\n",
       "      <td>Money Train (1995)</td>\n",
       "      <td>Action</td>\n",
       "      <td>Money Train (1995)&lt;br&gt;Action</td>\n",
       "    </tr>\n",
       "    <tr>\n",
       "      <th>20</th>\n",
       "      <td>21</td>\n",
       "      <td>Get Shorty (1995)</td>\n",
       "      <td>Action|Comedy|Drama</td>\n",
       "      <td>Get Shorty (1995)&lt;br&gt;Action|Comedy|Drama</td>\n",
       "    </tr>\n",
       "    <tr>\n",
       "      <th>21</th>\n",
       "      <td>22</td>\n",
       "      <td>Copycat (1995)</td>\n",
       "      <td>Crime|Drama|Thriller</td>\n",
       "      <td>Copycat (1995)&lt;br&gt;Crime|Drama|Thriller</td>\n",
       "    </tr>\n",
       "    <tr>\n",
       "      <th>22</th>\n",
       "      <td>23</td>\n",
       "      <td>Assassins (1995)</td>\n",
       "      <td>Thriller</td>\n",
       "      <td>Assassins (1995)&lt;br&gt;Thriller</td>\n",
       "    </tr>\n",
       "    <tr>\n",
       "      <th>23</th>\n",
       "      <td>24</td>\n",
       "      <td>Powder (1995)</td>\n",
       "      <td>Drama|Sci-Fi</td>\n",
       "      <td>Powder (1995)&lt;br&gt;Drama|Sci-Fi</td>\n",
       "    </tr>\n",
       "    <tr>\n",
       "      <th>24</th>\n",
       "      <td>25</td>\n",
       "      <td>Leaving Las Vegas (1995)</td>\n",
       "      <td>Drama|Romance</td>\n",
       "      <td>Leaving Las Vegas (1995)&lt;br&gt;Drama|Romance</td>\n",
       "    </tr>\n",
       "    <tr>\n",
       "      <th>25</th>\n",
       "      <td>26</td>\n",
       "      <td>Othello (1995)</td>\n",
       "      <td>Drama</td>\n",
       "      <td>Othello (1995)&lt;br&gt;Drama</td>\n",
       "    </tr>\n",
       "    <tr>\n",
       "      <th>26</th>\n",
       "      <td>27</td>\n",
       "      <td>Now and Then (1995)</td>\n",
       "      <td>Drama</td>\n",
       "      <td>Now and Then (1995)&lt;br&gt;Drama</td>\n",
       "    </tr>\n",
       "    <tr>\n",
       "      <th>27</th>\n",
       "      <td>28</td>\n",
       "      <td>Persuasion (1995)</td>\n",
       "      <td>Romance</td>\n",
       "      <td>Persuasion (1995)&lt;br&gt;Romance</td>\n",
       "    </tr>\n",
       "    <tr>\n",
       "      <th>28</th>\n",
       "      <td>29</td>\n",
       "      <td>City of Lost Children, The (1995)</td>\n",
       "      <td>Adventure|Sci-Fi</td>\n",
       "      <td>City of Lost Children, The (1995)&lt;br&gt;Adventure...</td>\n",
       "    </tr>\n",
       "    <tr>\n",
       "      <th>29</th>\n",
       "      <td>30</td>\n",
       "      <td>Shanghai Triad (Yao a yao yao dao waipo qiao) ...</td>\n",
       "      <td>Drama</td>\n",
       "      <td>Shanghai Triad (Yao a yao yao dao waipo qiao) ...</td>\n",
       "    </tr>\n",
       "    <tr>\n",
       "      <th>...</th>\n",
       "      <td>...</td>\n",
       "      <td>...</td>\n",
       "      <td>...</td>\n",
       "      <td>...</td>\n",
       "    </tr>\n",
       "    <tr>\n",
       "      <th>3853</th>\n",
       "      <td>3923</td>\n",
       "      <td>Return of the Fly (1959)</td>\n",
       "      <td>Horror|Sci-Fi</td>\n",
       "      <td>Return of the Fly (1959)&lt;br&gt;Horror|Sci-Fi</td>\n",
       "    </tr>\n",
       "    <tr>\n",
       "      <th>3854</th>\n",
       "      <td>3924</td>\n",
       "      <td>Pajama Party (1964)</td>\n",
       "      <td>Comedy</td>\n",
       "      <td>Pajama Party (1964)&lt;br&gt;Comedy</td>\n",
       "    </tr>\n",
       "    <tr>\n",
       "      <th>3855</th>\n",
       "      <td>3925</td>\n",
       "      <td>Stranger Than Paradise (1984)</td>\n",
       "      <td>Comedy</td>\n",
       "      <td>Stranger Than Paradise (1984)&lt;br&gt;Comedy</td>\n",
       "    </tr>\n",
       "    <tr>\n",
       "      <th>3856</th>\n",
       "      <td>3926</td>\n",
       "      <td>Voyage to the Bottom of the Sea (1961)</td>\n",
       "      <td>Adventure|Sci-Fi</td>\n",
       "      <td>Voyage to the Bottom of the Sea (1961)&lt;br&gt;Adve...</td>\n",
       "    </tr>\n",
       "    <tr>\n",
       "      <th>3857</th>\n",
       "      <td>3927</td>\n",
       "      <td>Fantastic Voyage (1966)</td>\n",
       "      <td>Adventure|Sci-Fi</td>\n",
       "      <td>Fantastic Voyage (1966)&lt;br&gt;Adventure|Sci-Fi</td>\n",
       "    </tr>\n",
       "    <tr>\n",
       "      <th>3858</th>\n",
       "      <td>3928</td>\n",
       "      <td>Abbott and Costello Meet Frankenstein (1948)</td>\n",
       "      <td>Comedy|Horror</td>\n",
       "      <td>Abbott and Costello Meet Frankenstein (1948)&lt;b...</td>\n",
       "    </tr>\n",
       "    <tr>\n",
       "      <th>3859</th>\n",
       "      <td>3929</td>\n",
       "      <td>Bank Dick, The (1940)</td>\n",
       "      <td>Comedy</td>\n",
       "      <td>Bank Dick, The (1940)&lt;br&gt;Comedy</td>\n",
       "    </tr>\n",
       "    <tr>\n",
       "      <th>3860</th>\n",
       "      <td>3930</td>\n",
       "      <td>Creature From the Black Lagoon, The (1954)</td>\n",
       "      <td>Horror</td>\n",
       "      <td>Creature From the Black Lagoon, The (1954)&lt;br&gt;...</td>\n",
       "    </tr>\n",
       "    <tr>\n",
       "      <th>3861</th>\n",
       "      <td>3931</td>\n",
       "      <td>Giant Gila Monster, The (1959)</td>\n",
       "      <td>Horror|Sci-Fi</td>\n",
       "      <td>Giant Gila Monster, The (1959)&lt;br&gt;Horror|Sci-Fi</td>\n",
       "    </tr>\n",
       "    <tr>\n",
       "      <th>3862</th>\n",
       "      <td>3932</td>\n",
       "      <td>Invisible Man, The (1933)</td>\n",
       "      <td>Horror|Sci-Fi</td>\n",
       "      <td>Invisible Man, The (1933)&lt;br&gt;Horror|Sci-Fi</td>\n",
       "    </tr>\n",
       "    <tr>\n",
       "      <th>3863</th>\n",
       "      <td>3933</td>\n",
       "      <td>Killer Shrews, The (1959)</td>\n",
       "      <td>Horror|Sci-Fi</td>\n",
       "      <td>Killer Shrews, The (1959)&lt;br&gt;Horror|Sci-Fi</td>\n",
       "    </tr>\n",
       "    <tr>\n",
       "      <th>3864</th>\n",
       "      <td>3934</td>\n",
       "      <td>Kronos (1957)</td>\n",
       "      <td>Sci-Fi</td>\n",
       "      <td>Kronos (1957)&lt;br&gt;Sci-Fi</td>\n",
       "    </tr>\n",
       "    <tr>\n",
       "      <th>3865</th>\n",
       "      <td>3935</td>\n",
       "      <td>Kronos (1973)</td>\n",
       "      <td>Horror</td>\n",
       "      <td>Kronos (1973)&lt;br&gt;Horror</td>\n",
       "    </tr>\n",
       "    <tr>\n",
       "      <th>3866</th>\n",
       "      <td>3936</td>\n",
       "      <td>Phantom of the Opera, The (1943)</td>\n",
       "      <td>Drama|Thriller</td>\n",
       "      <td>Phantom of the Opera, The (1943)&lt;br&gt;Drama|Thri...</td>\n",
       "    </tr>\n",
       "    <tr>\n",
       "      <th>3867</th>\n",
       "      <td>3937</td>\n",
       "      <td>Runaway (1984)</td>\n",
       "      <td>Sci-Fi|Thriller</td>\n",
       "      <td>Runaway (1984)&lt;br&gt;Sci-Fi|Thriller</td>\n",
       "    </tr>\n",
       "    <tr>\n",
       "      <th>3868</th>\n",
       "      <td>3938</td>\n",
       "      <td>Slumber Party Massacre, The (1982)</td>\n",
       "      <td>Horror</td>\n",
       "      <td>Slumber Party Massacre, The (1982)&lt;br&gt;Horror</td>\n",
       "    </tr>\n",
       "    <tr>\n",
       "      <th>3869</th>\n",
       "      <td>3939</td>\n",
       "      <td>Slumber Party Massacre II, The (1987)</td>\n",
       "      <td>Horror</td>\n",
       "      <td>Slumber Party Massacre II, The (1987)&lt;br&gt;Horror</td>\n",
       "    </tr>\n",
       "    <tr>\n",
       "      <th>3870</th>\n",
       "      <td>3940</td>\n",
       "      <td>Slumber Party Massacre III, The (1990)</td>\n",
       "      <td>Horror</td>\n",
       "      <td>Slumber Party Massacre III, The (1990)&lt;br&gt;Horror</td>\n",
       "    </tr>\n",
       "    <tr>\n",
       "      <th>3871</th>\n",
       "      <td>3941</td>\n",
       "      <td>Sorority House Massacre (1986)</td>\n",
       "      <td>Horror</td>\n",
       "      <td>Sorority House Massacre (1986)&lt;br&gt;Horror</td>\n",
       "    </tr>\n",
       "    <tr>\n",
       "      <th>3872</th>\n",
       "      <td>3942</td>\n",
       "      <td>Sorority House Massacre II (1990)</td>\n",
       "      <td>Horror</td>\n",
       "      <td>Sorority House Massacre II (1990)&lt;br&gt;Horror</td>\n",
       "    </tr>\n",
       "    <tr>\n",
       "      <th>3873</th>\n",
       "      <td>3943</td>\n",
       "      <td>Bamboozled (2000)</td>\n",
       "      <td>Comedy</td>\n",
       "      <td>Bamboozled (2000)&lt;br&gt;Comedy</td>\n",
       "    </tr>\n",
       "    <tr>\n",
       "      <th>3874</th>\n",
       "      <td>3944</td>\n",
       "      <td>Bootmen (2000)</td>\n",
       "      <td>Comedy|Drama</td>\n",
       "      <td>Bootmen (2000)&lt;br&gt;Comedy|Drama</td>\n",
       "    </tr>\n",
       "    <tr>\n",
       "      <th>3875</th>\n",
       "      <td>3945</td>\n",
       "      <td>Digimon: The Movie (2000)</td>\n",
       "      <td>Adventure|Animation|Children's</td>\n",
       "      <td>Digimon: The Movie (2000)&lt;br&gt;Adventure|Animati...</td>\n",
       "    </tr>\n",
       "    <tr>\n",
       "      <th>3876</th>\n",
       "      <td>3946</td>\n",
       "      <td>Get Carter (2000)</td>\n",
       "      <td>Action|Drama|Thriller</td>\n",
       "      <td>Get Carter (2000)&lt;br&gt;Action|Drama|Thriller</td>\n",
       "    </tr>\n",
       "    <tr>\n",
       "      <th>3877</th>\n",
       "      <td>3947</td>\n",
       "      <td>Get Carter (1971)</td>\n",
       "      <td>Thriller</td>\n",
       "      <td>Get Carter (1971)&lt;br&gt;Thriller</td>\n",
       "    </tr>\n",
       "    <tr>\n",
       "      <th>3878</th>\n",
       "      <td>3948</td>\n",
       "      <td>Meet the Parents (2000)</td>\n",
       "      <td>Comedy</td>\n",
       "      <td>Meet the Parents (2000)&lt;br&gt;Comedy</td>\n",
       "    </tr>\n",
       "    <tr>\n",
       "      <th>3879</th>\n",
       "      <td>3949</td>\n",
       "      <td>Requiem for a Dream (2000)</td>\n",
       "      <td>Drama</td>\n",
       "      <td>Requiem for a Dream (2000)&lt;br&gt;Drama</td>\n",
       "    </tr>\n",
       "    <tr>\n",
       "      <th>3880</th>\n",
       "      <td>3950</td>\n",
       "      <td>Tigerland (2000)</td>\n",
       "      <td>Drama</td>\n",
       "      <td>Tigerland (2000)&lt;br&gt;Drama</td>\n",
       "    </tr>\n",
       "    <tr>\n",
       "      <th>3881</th>\n",
       "      <td>3951</td>\n",
       "      <td>Two Family House (2000)</td>\n",
       "      <td>Drama</td>\n",
       "      <td>Two Family House (2000)&lt;br&gt;Drama</td>\n",
       "    </tr>\n",
       "    <tr>\n",
       "      <th>3882</th>\n",
       "      <td>3952</td>\n",
       "      <td>Contender, The (2000)</td>\n",
       "      <td>Drama|Thriller</td>\n",
       "      <td>Contender, The (2000)&lt;br&gt;Drama|Thriller</td>\n",
       "    </tr>\n",
       "  </tbody>\n",
       "</table>\n",
       "<p>3883 rows × 4 columns</p>\n",
       "</div>"
      ],
      "text/plain": [
       "      index                                               name  \\\n",
       "0         1                                   Toy Story (1995)   \n",
       "1         2                                     Jumanji (1995)   \n",
       "2         3                            Grumpier Old Men (1995)   \n",
       "3         4                           Waiting to Exhale (1995)   \n",
       "4         5                 Father of the Bride Part II (1995)   \n",
       "5         6                                        Heat (1995)   \n",
       "6         7                                     Sabrina (1995)   \n",
       "7         8                                Tom and Huck (1995)   \n",
       "8         9                                Sudden Death (1995)   \n",
       "9        10                                   GoldenEye (1995)   \n",
       "10       11                     American President, The (1995)   \n",
       "11       12                 Dracula: Dead and Loving It (1995)   \n",
       "12       13                                       Balto (1995)   \n",
       "13       14                                       Nixon (1995)   \n",
       "14       15                            Cutthroat Island (1995)   \n",
       "15       16                                      Casino (1995)   \n",
       "16       17                       Sense and Sensibility (1995)   \n",
       "17       18                                  Four Rooms (1995)   \n",
       "18       19              Ace Ventura: When Nature Calls (1995)   \n",
       "19       20                                 Money Train (1995)   \n",
       "20       21                                  Get Shorty (1995)   \n",
       "21       22                                     Copycat (1995)   \n",
       "22       23                                   Assassins (1995)   \n",
       "23       24                                      Powder (1995)   \n",
       "24       25                           Leaving Las Vegas (1995)   \n",
       "25       26                                     Othello (1995)   \n",
       "26       27                                Now and Then (1995)   \n",
       "27       28                                  Persuasion (1995)   \n",
       "28       29                  City of Lost Children, The (1995)   \n",
       "29       30  Shanghai Triad (Yao a yao yao dao waipo qiao) ...   \n",
       "...     ...                                                ...   \n",
       "3853   3923                           Return of the Fly (1959)   \n",
       "3854   3924                                Pajama Party (1964)   \n",
       "3855   3925                      Stranger Than Paradise (1984)   \n",
       "3856   3926             Voyage to the Bottom of the Sea (1961)   \n",
       "3857   3927                            Fantastic Voyage (1966)   \n",
       "3858   3928       Abbott and Costello Meet Frankenstein (1948)   \n",
       "3859   3929                              Bank Dick, The (1940)   \n",
       "3860   3930         Creature From the Black Lagoon, The (1954)   \n",
       "3861   3931                     Giant Gila Monster, The (1959)   \n",
       "3862   3932                          Invisible Man, The (1933)   \n",
       "3863   3933                          Killer Shrews, The (1959)   \n",
       "3864   3934                                      Kronos (1957)   \n",
       "3865   3935                                      Kronos (1973)   \n",
       "3866   3936                   Phantom of the Opera, The (1943)   \n",
       "3867   3937                                     Runaway (1984)   \n",
       "3868   3938                 Slumber Party Massacre, The (1982)   \n",
       "3869   3939              Slumber Party Massacre II, The (1987)   \n",
       "3870   3940             Slumber Party Massacre III, The (1990)   \n",
       "3871   3941                     Sorority House Massacre (1986)   \n",
       "3872   3942                  Sorority House Massacre II (1990)   \n",
       "3873   3943                                  Bamboozled (2000)   \n",
       "3874   3944                                     Bootmen (2000)   \n",
       "3875   3945                          Digimon: The Movie (2000)   \n",
       "3876   3946                                  Get Carter (2000)   \n",
       "3877   3947                                  Get Carter (1971)   \n",
       "3878   3948                            Meet the Parents (2000)   \n",
       "3879   3949                         Requiem for a Dream (2000)   \n",
       "3880   3950                                   Tigerland (2000)   \n",
       "3881   3951                            Two Family House (2000)   \n",
       "3882   3952                              Contender, The (2000)   \n",
       "\n",
       "                                type  \\\n",
       "0        Animation|Children's|Comedy   \n",
       "1       Adventure|Children's|Fantasy   \n",
       "2                     Comedy|Romance   \n",
       "3                       Comedy|Drama   \n",
       "4                             Comedy   \n",
       "5              Action|Crime|Thriller   \n",
       "6                     Comedy|Romance   \n",
       "7               Adventure|Children's   \n",
       "8                             Action   \n",
       "9          Action|Adventure|Thriller   \n",
       "10              Comedy|Drama|Romance   \n",
       "11                     Comedy|Horror   \n",
       "12              Animation|Children's   \n",
       "13                             Drama   \n",
       "14          Action|Adventure|Romance   \n",
       "15                    Drama|Thriller   \n",
       "16                     Drama|Romance   \n",
       "17                          Thriller   \n",
       "18                            Comedy   \n",
       "19                            Action   \n",
       "20               Action|Comedy|Drama   \n",
       "21              Crime|Drama|Thriller   \n",
       "22                          Thriller   \n",
       "23                      Drama|Sci-Fi   \n",
       "24                     Drama|Romance   \n",
       "25                             Drama   \n",
       "26                             Drama   \n",
       "27                           Romance   \n",
       "28                  Adventure|Sci-Fi   \n",
       "29                             Drama   \n",
       "...                              ...   \n",
       "3853                   Horror|Sci-Fi   \n",
       "3854                          Comedy   \n",
       "3855                          Comedy   \n",
       "3856                Adventure|Sci-Fi   \n",
       "3857                Adventure|Sci-Fi   \n",
       "3858                   Comedy|Horror   \n",
       "3859                          Comedy   \n",
       "3860                          Horror   \n",
       "3861                   Horror|Sci-Fi   \n",
       "3862                   Horror|Sci-Fi   \n",
       "3863                   Horror|Sci-Fi   \n",
       "3864                          Sci-Fi   \n",
       "3865                          Horror   \n",
       "3866                  Drama|Thriller   \n",
       "3867                 Sci-Fi|Thriller   \n",
       "3868                          Horror   \n",
       "3869                          Horror   \n",
       "3870                          Horror   \n",
       "3871                          Horror   \n",
       "3872                          Horror   \n",
       "3873                          Comedy   \n",
       "3874                    Comedy|Drama   \n",
       "3875  Adventure|Animation|Children's   \n",
       "3876           Action|Drama|Thriller   \n",
       "3877                        Thriller   \n",
       "3878                          Comedy   \n",
       "3879                           Drama   \n",
       "3880                           Drama   \n",
       "3881                           Drama   \n",
       "3882                  Drama|Thriller   \n",
       "\n",
       "                                                  notes  \n",
       "0       Toy Story (1995)<br>Animation|Children's|Comedy  \n",
       "1        Jumanji (1995)<br>Adventure|Children's|Fantasy  \n",
       "2             Grumpier Old Men (1995)<br>Comedy|Romance  \n",
       "3              Waiting to Exhale (1995)<br>Comedy|Drama  \n",
       "4          Father of the Bride Part II (1995)<br>Comedy  \n",
       "5                  Heat (1995)<br>Action|Crime|Thriller  \n",
       "6                      Sabrina (1995)<br>Comedy|Romance  \n",
       "7           Tom and Huck (1995)<br>Adventure|Children's  \n",
       "8                         Sudden Death (1995)<br>Action  \n",
       "9         GoldenEye (1995)<br>Action|Adventure|Thriller  \n",
       "10    American President, The (1995)<br>Comedy|Drama...  \n",
       "11    Dracula: Dead and Loving It (1995)<br>Comedy|H...  \n",
       "12                 Balto (1995)<br>Animation|Children's  \n",
       "13                                Nixon (1995)<br>Drama  \n",
       "14    Cutthroat Island (1995)<br>Action|Adventure|Ro...  \n",
       "15                      Casino (1995)<br>Drama|Thriller  \n",
       "16        Sense and Sensibility (1995)<br>Drama|Romance  \n",
       "17                        Four Rooms (1995)<br>Thriller  \n",
       "18      Ace Ventura: When Nature Calls (1995)<br>Comedy  \n",
       "19                         Money Train (1995)<br>Action  \n",
       "20             Get Shorty (1995)<br>Action|Comedy|Drama  \n",
       "21               Copycat (1995)<br>Crime|Drama|Thriller  \n",
       "22                         Assassins (1995)<br>Thriller  \n",
       "23                        Powder (1995)<br>Drama|Sci-Fi  \n",
       "24            Leaving Las Vegas (1995)<br>Drama|Romance  \n",
       "25                              Othello (1995)<br>Drama  \n",
       "26                         Now and Then (1995)<br>Drama  \n",
       "27                         Persuasion (1995)<br>Romance  \n",
       "28    City of Lost Children, The (1995)<br>Adventure...  \n",
       "29    Shanghai Triad (Yao a yao yao dao waipo qiao) ...  \n",
       "...                                                 ...  \n",
       "3853          Return of the Fly (1959)<br>Horror|Sci-Fi  \n",
       "3854                      Pajama Party (1964)<br>Comedy  \n",
       "3855            Stranger Than Paradise (1984)<br>Comedy  \n",
       "3856  Voyage to the Bottom of the Sea (1961)<br>Adve...  \n",
       "3857        Fantastic Voyage (1966)<br>Adventure|Sci-Fi  \n",
       "3858  Abbott and Costello Meet Frankenstein (1948)<b...  \n",
       "3859                    Bank Dick, The (1940)<br>Comedy  \n",
       "3860  Creature From the Black Lagoon, The (1954)<br>...  \n",
       "3861    Giant Gila Monster, The (1959)<br>Horror|Sci-Fi  \n",
       "3862         Invisible Man, The (1933)<br>Horror|Sci-Fi  \n",
       "3863         Killer Shrews, The (1959)<br>Horror|Sci-Fi  \n",
       "3864                            Kronos (1957)<br>Sci-Fi  \n",
       "3865                            Kronos (1973)<br>Horror  \n",
       "3866  Phantom of the Opera, The (1943)<br>Drama|Thri...  \n",
       "3867                  Runaway (1984)<br>Sci-Fi|Thriller  \n",
       "3868       Slumber Party Massacre, The (1982)<br>Horror  \n",
       "3869    Slumber Party Massacre II, The (1987)<br>Horror  \n",
       "3870   Slumber Party Massacre III, The (1990)<br>Horror  \n",
       "3871           Sorority House Massacre (1986)<br>Horror  \n",
       "3872        Sorority House Massacre II (1990)<br>Horror  \n",
       "3873                        Bamboozled (2000)<br>Comedy  \n",
       "3874                     Bootmen (2000)<br>Comedy|Drama  \n",
       "3875  Digimon: The Movie (2000)<br>Adventure|Animati...  \n",
       "3876         Get Carter (2000)<br>Action|Drama|Thriller  \n",
       "3877                      Get Carter (1971)<br>Thriller  \n",
       "3878                  Meet the Parents (2000)<br>Comedy  \n",
       "3879                Requiem for a Dream (2000)<br>Drama  \n",
       "3880                          Tigerland (2000)<br>Drama  \n",
       "3881                   Two Family House (2000)<br>Drama  \n",
       "3882            Contender, The (2000)<br>Drama|Thriller  \n",
       "\n",
       "[3883 rows x 4 columns]"
      ]
     },
     "execution_count": 5,
     "metadata": {},
     "output_type": "execute_result"
    }
   ],
   "source": [
    "Side_info"
   ]
  },
  {
   "cell_type": "code",
   "execution_count": 6,
   "metadata": {},
   "outputs": [],
   "source": [
    "params = {\n",
    "    'models': {\"PLR\": embedded_lrec_items,\n",
    "               \"PMI-PLR\": pmi_lrec_items,\n",
    "               \"ALS\": als\n",
    "               },\n",
    "    'alphas': 1,\n",
    "    'rank': 50,\n",
    "    'lambda': 1,\n",
    "    'topK': 10,\n",
    "    'iter': 7,\n",
    "    'metric': ['R-Precision', 'NDCG'],\n",
    "}\n"
   ]
  },
  {
   "cell_type": "code",
   "execution_count": 21,
   "metadata": {},
   "outputs": [],
   "source": [
    "item_popularity = np.array(np.sum(R_train, axis=0)).flatten()"
   ]
  },
  {
   "cell_type": "code",
   "execution_count": 7,
   "metadata": {},
   "outputs": [
    {
     "name": "stderr",
     "output_type": "stream",
     "text": [
      "  4%|▍         | 256/6040 [00:00<00:02, 2556.50it/s]"
     ]
    },
    {
     "name": "stdout",
     "output_type": "stream",
     "text": [
      "############### Create PMI matrix ################\n",
      "\n"
     ]
    },
    {
     "name": "stderr",
     "output_type": "stream",
     "text": [
      "100%|██████████| 6040/6040 [00:02<00:00, 2979.96it/s]\n"
     ]
    },
    {
     "name": "stdout",
     "output_type": "stream",
     "text": [
      "################# Randomized SVD #################\n",
      "\n",
      "Elapsed: 00:00:02\n",
      "######## Closed-Form Linear Optimization #########\n",
      "\n",
      "Elapsed: 00:00:00\n"
     ]
    }
   ],
   "source": [
    "RQ, Yt, _ = params['models']['PMI-PLR'](R_train, embeded_matrix=np.empty((0)),\n",
    "                                         iteration=params['iter'], rank=params['rank'],\n",
    "                                         lam=params['lambda'], alpha=params['alphas'], seed=1)\n",
    "\n",
    "Y = Yt.T"
   ]
  },
  {
   "cell_type": "code",
   "execution_count": 8,
   "metadata": {},
   "outputs": [
    {
     "data": {
      "text/plain": [
       "array([[-0.00290444, -0.00323393, -0.00190585, ..., -0.0062295 ,\n",
       "         0.01954152,  0.00492285],\n",
       "       [ 0.00286207, -0.00462039, -0.00052791, ...,  0.00522759,\n",
       "        -0.00407772,  0.01437379],\n",
       "       [ 0.00250544, -0.0036631 , -0.00324649, ...,  0.00043443,\n",
       "         0.00968267, -0.0053311 ],\n",
       "       ...,\n",
       "       [ 0.00029565,  0.00050795, -0.00020962, ...,  0.0045831 ,\n",
       "         0.00085058,  0.00160361],\n",
       "       [ 0.00032323,  0.00097482, -0.00014559, ...,  0.00527033,\n",
       "         0.0011431 ,  0.00117179],\n",
       "       [ 0.00056806,  0.00090544, -0.00122308, ...,  0.00311419,\n",
       "         0.00293191,  0.01422698]])"
      ]
     },
     "execution_count": 8,
     "metadata": {},
     "output_type": "execute_result"
    }
   ],
   "source": [
    "Y"
   ]
  },
  {
   "cell_type": "code",
   "execution_count": 9,
   "metadata": {},
   "outputs": [],
   "source": [
    "from sklearn.manifold import TSNE"
   ]
  },
  {
   "cell_type": "code",
   "execution_count": 10,
   "metadata": {},
   "outputs": [],
   "source": [
    "Y_embedded = TSNE(n_components=2).fit_transform(Y)"
   ]
  },
  {
   "cell_type": "code",
   "execution_count": 11,
   "metadata": {},
   "outputs": [],
   "source": [
    "import plotly.plotly as py\n",
    "import plotly\n",
    "plotly.tools.set_credentials_file(username='wuga', api_key='gJlTOHX9OA6h7rlUlkWo')\n",
    "import plotly.graph_objs as go"
   ]
  },
  {
   "cell_type": "code",
   "execution_count": 23,
   "metadata": {},
   "outputs": [
    {
     "data": {
      "text/plain": [
       "array([7019, 1553,  877, ...,   70,  101,  854])"
      ]
     },
     "execution_count": 23,
     "metadata": {},
     "output_type": "execute_result"
    }
   ],
   "source": [
    "item_popularity"
   ]
  },
  {
   "cell_type": "code",
   "execution_count": 27,
   "metadata": {},
   "outputs": [
    {
     "name": "stdout",
     "output_type": "stream",
     "text": [
      "High five! You successfully sent some data to your account on plotly. View your plot in your browser at https://plot.ly/~wuga/0 or inside your plot.ly account where it is named 'text'\n"
     ]
    },
    {
     "data": {
      "text/html": [
       "<iframe id=\"igraph\" scrolling=\"no\" style=\"border:none;\" seamless=\"seamless\" src=\"https://plot.ly/~wuga/0.embed\" height=\"525px\" width=\"100%\"></iframe>"
      ],
      "text/plain": [
       "<plotly.tools.PlotlyDisplay object>"
      ]
     },
     "execution_count": 27,
     "metadata": {},
     "output_type": "execute_result"
    }
   ],
   "source": [
    "trace0 = go.Scatter(\n",
    "    x=Y_embedded[:, 0],\n",
    "    y=Y_embedded[:, 1],\n",
    "    mode='markers',\n",
    "        marker = dict(\n",
    "        size = 8,\n",
    "        color = item_popularity,\n",
    "        line = dict(\n",
    "            width = 2,\n",
    "        )\n",
    "    ),\n",
    "    #text=Side_info[Side_info['index'].isin(Index)]['type'].as_matrix()\n",
    "    text=Side_info[Side_info['index'].isin(Index)]['notes'].str.decode('iso-8859-1').str.encode('utf-8').tolist()\n",
    ")\n",
    "\n",
    "data = [trace0]\n",
    "py.iplot(data, filename='text')\n"
   ]
  },
  {
   "cell_type": "code",
   "execution_count": 13,
   "metadata": {},
   "outputs": [
    {
     "name": "stdout",
     "output_type": "stream",
     "text": [
      "###### Alternative Item-wised Optimization #######\n",
      "\n",
      "------------------ Iteration: 0 ------------------\n",
      "\n"
     ]
    },
    {
     "name": "stderr",
     "output_type": "stream",
     "text": [
      "100%|██████████| 6040/6040 [00:12<00:00, 482.22it/s]\n",
      "100%|██████████| 3706/3706 [00:18<00:00, 205.44it/s]\n",
      "  1%|          | 46/6040 [00:00<00:13, 453.80it/s]"
     ]
    },
    {
     "name": "stdout",
     "output_type": "stream",
     "text": [
      "------------------ Iteration: 1 ------------------\n",
      "\n"
     ]
    },
    {
     "name": "stderr",
     "output_type": "stream",
     "text": [
      "100%|██████████| 6040/6040 [00:13<00:00, 451.31it/s]\n",
      "100%|██████████| 3706/3706 [00:15<00:00, 240.94it/s]\n",
      "  1%|          | 56/6040 [00:00<00:10, 555.38it/s]"
     ]
    },
    {
     "name": "stdout",
     "output_type": "stream",
     "text": [
      "------------------ Iteration: 2 ------------------\n",
      "\n"
     ]
    },
    {
     "name": "stderr",
     "output_type": "stream",
     "text": [
      "100%|██████████| 6040/6040 [00:10<00:00, 574.46it/s]\n",
      "100%|██████████| 3706/3706 [00:16<00:00, 220.79it/s]\n",
      "  1%|          | 44/6040 [00:00<00:13, 436.68it/s]"
     ]
    },
    {
     "name": "stdout",
     "output_type": "stream",
     "text": [
      "------------------ Iteration: 3 ------------------\n",
      "\n"
     ]
    },
    {
     "name": "stderr",
     "output_type": "stream",
     "text": [
      "100%|██████████| 6040/6040 [00:11<00:00, 526.62it/s]\n",
      "100%|██████████| 3706/3706 [00:15<00:00, 233.35it/s]\n",
      "  1%|          | 56/6040 [00:00<00:10, 553.48it/s]"
     ]
    },
    {
     "name": "stdout",
     "output_type": "stream",
     "text": [
      "------------------ Iteration: 4 ------------------\n",
      "\n"
     ]
    },
    {
     "name": "stderr",
     "output_type": "stream",
     "text": [
      "100%|██████████| 6040/6040 [00:11<00:00, 522.02it/s]\n",
      "100%|██████████| 3706/3706 [00:12<00:00, 294.84it/s]\n",
      "  1%|          | 53/6040 [00:00<00:11, 529.81it/s]"
     ]
    },
    {
     "name": "stdout",
     "output_type": "stream",
     "text": [
      "------------------ Iteration: 5 ------------------\n",
      "\n"
     ]
    },
    {
     "name": "stderr",
     "output_type": "stream",
     "text": [
      "100%|██████████| 6040/6040 [00:12<00:00, 472.69it/s]\n",
      "100%|██████████| 3706/3706 [00:16<00:00, 224.83it/s]\n",
      "  1%|          | 50/6040 [00:00<00:12, 492.11it/s]"
     ]
    },
    {
     "name": "stdout",
     "output_type": "stream",
     "text": [
      "------------------ Iteration: 6 ------------------\n",
      "\n"
     ]
    },
    {
     "name": "stderr",
     "output_type": "stream",
     "text": [
      "100%|██████████| 6040/6040 [00:10<00:00, 563.59it/s]\n",
      "100%|██████████| 3706/3706 [00:15<00:00, 240.17it/s]\n"
     ]
    }
   ],
   "source": [
    "RQ, Yt, _ = params['models']['ALS'](R_train, embeded_matrix=np.empty((0)),\n",
    "                                         iteration=params['iter'], rank=params['rank'],\n",
    "                                         lam=params['lambda'], alpha=params['alphas'], seed=1)\n",
    "\n",
    "Y = Yt.T"
   ]
  },
  {
   "cell_type": "code",
   "execution_count": 14,
   "metadata": {},
   "outputs": [],
   "source": [
    "Y_als_embedded = TSNE(n_components=2).fit_transform(Y)"
   ]
  },
  {
   "cell_type": "code",
   "execution_count": 29,
   "metadata": {},
   "outputs": [
    {
     "name": "stdout",
     "output_type": "stream",
     "text": [
      "High five! You successfully sent some data to your account on plotly. View your plot in your browser at https://plot.ly/~wuga/0 or inside your plot.ly account where it is named 'text'\n"
     ]
    },
    {
     "data": {
      "text/html": [
       "<iframe id=\"igraph\" scrolling=\"no\" style=\"border:none;\" seamless=\"seamless\" src=\"https://plot.ly/~wuga/0.embed\" height=\"525px\" width=\"100%\"></iframe>"
      ],
      "text/plain": [
       "<plotly.tools.PlotlyDisplay object>"
      ]
     },
     "execution_count": 29,
     "metadata": {},
     "output_type": "execute_result"
    }
   ],
   "source": [
    "trace0 = go.Scatter(\n",
    "    x=Y_als_embedded[:, 0],\n",
    "    y=Y_als_embedded[:, 1],\n",
    "    mode='markers',\n",
    "    marker = dict(\n",
    "        size = 8,\n",
    "        color = item_popularity,\n",
    "        line = dict(\n",
    "            width = 2,\n",
    "        )\n",
    "    ),\n",
    "    #text=Side_info[Side_info['index'].isin(Index)]['type'].as_matrix()\n",
    "    text=Side_info[Side_info['index'].isin(Index)]['notes'].str.decode('iso-8859-1').str.encode('utf-8').tolist()\n",
    ")\n",
    "\n",
    "data = [trace0]\n",
    "py.iplot(data, filename='text')"
   ]
  },
  {
   "cell_type": "code",
   "execution_count": 18,
   "metadata": {},
   "outputs": [
    {
     "name": "stdout",
     "output_type": "stream",
     "text": [
      "################# Randomized SVD #################\n",
      "\n",
      "Elapsed: 00:00:01\n",
      "######## Closed-Form Linear Optimization #########\n",
      "\n",
      "Elapsed: 00:00:00\n"
     ]
    }
   ],
   "source": [
    "RQ, Yt, _ = params['models']['PLR'](R_train, embeded_matrix=np.empty((0)),\n",
    "                                         iteration=params['iter'], rank=params['rank'],\n",
    "                                         lam=params['lambda'], alpha=params['alphas'], seed=1)\n",
    "\n",
    "Y = Yt.T"
   ]
  },
  {
   "cell_type": "code",
   "execution_count": 19,
   "metadata": {},
   "outputs": [],
   "source": [
    "Y_plrec_embedded = TSNE(n_components=2).fit_transform(Y)"
   ]
  },
  {
   "cell_type": "code",
   "execution_count": 28,
   "metadata": {},
   "outputs": [
    {
     "name": "stdout",
     "output_type": "stream",
     "text": [
      "High five! You successfully sent some data to your account on plotly. View your plot in your browser at https://plot.ly/~wuga/0 or inside your plot.ly account where it is named 'text'\n"
     ]
    },
    {
     "data": {
      "text/html": [
       "<iframe id=\"igraph\" scrolling=\"no\" style=\"border:none;\" seamless=\"seamless\" src=\"https://plot.ly/~wuga/0.embed\" height=\"525px\" width=\"100%\"></iframe>"
      ],
      "text/plain": [
       "<plotly.tools.PlotlyDisplay object>"
      ]
     },
     "execution_count": 28,
     "metadata": {},
     "output_type": "execute_result"
    }
   ],
   "source": [
    "trace0 = go.Scatter(\n",
    "    x=Y_plrec_embedded[:, 0],\n",
    "    y=Y_plrec_embedded[:, 1],\n",
    "    mode='markers',\n",
    "    marker = dict(\n",
    "        size = 8,\n",
    "        color = item_popularity,\n",
    "        line = dict(\n",
    "            width = 2,\n",
    "        )\n",
    "    ),\n",
    "    #text=Side_info[Side_info['index'].isin(Index)]['type'].as_matrix()\n",
    "    text=Side_info[Side_info['index'].isin(Index)]['notes'].str.decode('iso-8859-1').str.encode('utf-8').tolist()\n",
    ")\n",
    "\n",
    "data = [trace0]\n",
    "py.iplot(data, filename='text')"
   ]
  },
  {
   "cell_type": "code",
   "execution_count": null,
   "metadata": {},
   "outputs": [],
   "source": []
  }
 ],
 "metadata": {
  "kernelspec": {
   "display_name": "Python 2",
   "language": "python",
   "name": "python2"
  },
  "language_info": {
   "codemirror_mode": {
    "name": "ipython",
    "version": 2
   },
   "file_extension": ".py",
   "mimetype": "text/x-python",
   "name": "python",
   "nbconvert_exporter": "python",
   "pygments_lexer": "ipython2",
   "version": "2.7.12"
  }
 },
 "nbformat": 4,
 "nbformat_minor": 2
}
